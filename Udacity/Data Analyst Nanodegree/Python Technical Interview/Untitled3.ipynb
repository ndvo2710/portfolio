{
 "cells": [
  {
   "cell_type": "code",
   "execution_count": 5,
   "metadata": {
    "collapsed": true
   },
   "outputs": [],
   "source": [
    "def tacofy(ingredients):\n",
    "    lst = ['shell']\n",
    "    ingredients = ingredients.lower()\n",
    "    for let in ingredients:\n",
    "        if let == 't':\n",
    "            lst.append('tomato')\n",
    "        if let == 'l':\n",
    "            lst.append('lettuce')\n",
    "        if let == 'c':\n",
    "            lst.append('cheese')\n",
    "        if let == 'g':\n",
    "            lst.append('guacamole')\n",
    "        if let == 's':\n",
    "            lst.append('salsa')\n",
    "        if isVowel(let):\n",
    "            lst.append('beef')\n",
    "    lst.append('beef')\n",
    "    return lst\n",
    "\n",
    "def isVowel(word):\n",
    "    if word in ['a', 'e', 'i', 'o', 'u']:\n",
    "        return True\n",
    "    return False\n"
   ]
  },
  {
   "cell_type": "code",
   "execution_count": 7,
   "metadata": {
    "collapsed": false
   },
   "outputs": [
    {
     "data": {
      "text/plain": [
       "['shell', 'beef', 'beef', 'lettuce', 'lettuce', 'beef']"
      ]
     },
     "execution_count": 7,
     "metadata": {},
     "output_type": "execute_result"
    }
   ],
   "source": [
    "tacofy('MaXwELl')"
   ]
  },
  {
   "cell_type": "code",
   "execution_count": 16,
   "metadata": {
    "collapsed": true
   },
   "outputs": [],
   "source": [
    "def gimme(input_array):\n",
    "    sorted_array = sorted(input_array)\n",
    "    for i, number in enumerate(input_array):\n",
    "        if number == sorted_array[1]:\n",
    "            return i"
   ]
  },
  {
   "cell_type": "code",
   "execution_count": 18,
   "metadata": {
    "collapsed": false
   },
   "outputs": [
    {
     "data": {
      "text/plain": [
       "1"
      ]
     },
     "execution_count": 18,
     "metadata": {},
     "output_type": "execute_result"
    }
   ],
   "source": [
    "test = [2,5,10]\n",
    "gimme(test)"
   ]
  },
  {
   "cell_type": "code",
   "execution_count": null,
   "metadata": {
    "collapsed": true
   },
   "outputs": [],
   "source": []
  }
 ],
 "metadata": {
  "kernelspec": {
   "display_name": "Python 2",
   "language": "python",
   "name": "python2"
  },
  "language_info": {
   "codemirror_mode": {
    "name": "ipython",
    "version": 2
   },
   "file_extension": ".py",
   "mimetype": "text/x-python",
   "name": "python",
   "nbconvert_exporter": "python",
   "pygments_lexer": "ipython2",
   "version": "2.7.11"
  }
 },
 "nbformat": 4,
 "nbformat_minor": 0
}
