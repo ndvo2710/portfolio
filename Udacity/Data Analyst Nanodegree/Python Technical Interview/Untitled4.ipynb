{
 "cells": [
  {
   "cell_type": "code",
   "execution_count": 18,
   "metadata": {
    "collapsed": false
   },
   "outputs": [
    {
     "name": "stdout",
     "output_type": "stream",
     "text": [
      "3\n",
      "1\n"
     ]
    }
   ],
   "source": [
    "class Node(object):\n",
    "    def __init__(self, value):\n",
    "        self.value = value\n",
    "        self.left = None\n",
    "        self.right = None\n",
    "\n",
    "class BST(object):\n",
    "    def __init__(self, root):\n",
    "        self.root = Node(root)\n",
    "\n",
    "    def insert(self, new_val):\n",
    "        self.insert_helper(self.root, new_val)\n",
    "\n",
    "    def insert_helper(self, current, new_val):\n",
    "        if current.value < new_val:\n",
    "            if current.right:\n",
    "                self.insert_helper(current.right, new_val)\n",
    "            else:\n",
    "                current.right = Node(new_val)\n",
    "        else:\n",
    "            if current.left:\n",
    "                self.insert_helper(current.left, new_val)\n",
    "            else:\n",
    "                current.left = Node(new_val)\n",
    "\n",
    "    def search(self, find_val):\n",
    "        return self.search_helper(self.root, find_val)\n",
    "\n",
    "    def search_helper(self, current, find_val):\n",
    "        if current:\n",
    "            if current.value == find_val:\n",
    "                return True\n",
    "            elif current.value < find_val:\n",
    "                return self.search_helper(current.right, find_val)\n",
    "            else:\n",
    "                return self.search_helper(current.left, find_val)\n",
    "        return False\n",
    "\n",
    "    def lca(self, n1, n2):\n",
    "        return self.lca_helper(self.root, n1, n2)\n",
    "\n",
    "    def lca_helper(self, current, n1, n2):\n",
    "        if current:\n",
    "            if (current.value > n1 and current.value > n2):\n",
    "                return self.lca_helper(current.left, n1, n2)\n",
    "            elif (current.value < n1 and current.value < n2):\n",
    "                return self.lca_helper(current.right, n1, n2)\n",
    "            else:\n",
    "                return current.value\n",
    "        return False\n",
    "\n",
    "\n",
    "def question4(T, r, n1, n2):\n",
    "    tree = BST(r)\n",
    "\n",
    "    list_of_index = BST_add(tree, T, [r])\n",
    "    if list_of_index:\n",
    "        list_of_index = BST_add(tree, T, list_of_index)\n",
    "    \n",
    "    return tree.lca(n1,n2)\n",
    "\n",
    "\n",
    "\n",
    "def BST_add(BSTree, T, list_of_indices):\n",
    "    temp = []\n",
    "    for index in list_of_indices:\n",
    "        for i, elem in enumerate(T[index]):\n",
    "            if elem == 1:\n",
    "                BSTree.insert(i)\n",
    "                temp.append(i)\n",
    "    return temp\n",
    "\n",
    "print question4([[0, 1, 0, 0, 0],\n",
    "                 [0, 0, 0, 0, 0],\n",
    "                 [0, 0, 0, 0, 0],\n",
    "                 [1, 0, 0, 0, 1],\n",
    "                 [0, 0, 0, 0, 0]],\n",
    "                  3,\n",
    "                  1,\n",
    "                  4)\n",
    "\n",
    "print question4([[0, 0, 0, 0, 0, 0],\n",
    "                 [1, 0, 0, 0, 0, 0],\n",
    "                 [0, 1, 0, 1, 0, 0],\n",
    "                 [0, 0, 0, 0, 0, 0],\n",
    "                 [0, 0, 1, 0, 0, 1],\n",
    "                 [0, 0, 0, 0, 0, 0]],\n",
    "                 4,\n",
    "                 1,\n",
    "                 0)"
   ]
  },
  {
   "cell_type": "code",
   "execution_count": 17,
   "metadata": {
    "collapsed": false
   },
   "outputs": [
    {
     "data": {
      "text/plain": [
       "2"
      ]
     },
     "execution_count": 17,
     "metadata": {},
     "output_type": "execute_result"
    }
   ],
   "source": [
    "tree = BST(4)\n",
    "tree.insert(2)\n",
    "tree.insert(5)\n",
    "tree.insert(1)\n",
    "tree.insert(3)\n",
    "tree.insert(0)\n",
    "tree.lca(0,3)"
   ]
  },
  {
   "cell_type": "code",
   "execution_count": null,
   "metadata": {
    "collapsed": true
   },
   "outputs": [],
   "source": []
  }
 ],
 "metadata": {
  "kernelspec": {
   "display_name": "Python 2",
   "language": "python",
   "name": "python2"
  },
  "language_info": {
   "codemirror_mode": {
    "name": "ipython",
    "version": 2
   },
   "file_extension": ".py",
   "mimetype": "text/x-python",
   "name": "python",
   "nbconvert_exporter": "python",
   "pygments_lexer": "ipython2",
   "version": "2.7.11"
  }
 },
 "nbformat": 4,
 "nbformat_minor": 0
}
