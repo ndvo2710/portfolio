{
 "cells": [
  {
   "cell_type": "markdown",
   "metadata": {},
   "source": [
    "For this project, you will be given five technical interviewing questions on a variety of topics discussed in the technical interviewing course. You should write up a clean and efficient answer in Python, as well as a text explanation of the efficiency of your code and your design choices. A qualified reviewer will look over your answer and give you feedback on anything that might be awesome or lacking—is your solution the most efficient one possible? Are you doing a good job of explaining your thoughts? Is your code elegant and easy to read?\n",
    "\n",
    "Answer the following questions:\n",
    "\n",
    "# Question 1\n",
    "Given two strings s and t, determine whether some anagram of t is a substring of s. For example: if s = \"udacity\" and t = \"ad\", then the function returns True. Your function definition should look like: question1(s, t) and return a boolean True or False.\n",
    "\n"
   ]
  },
  {
   "cell_type": "code",
   "execution_count": 133,
   "metadata": {
    "collapsed": false
   },
   "outputs": [
    {
     "name": "stdout",
     "output_type": "stream",
     "text": [
      "('ud', 'ad')\n",
      "('da', 'ad')\n",
      "True ('ud', 'da')\n",
      "('da', 'da')\n",
      "True ('bbb', 'bac')\n",
      "('bba', 'bac')\n",
      "('baa', 'bac')\n",
      "('aac', 'bac')\n",
      "('acc', 'bac')\n",
      "('ccc', 'bac')\n",
      "False\n"
     ]
    }
   ],
   "source": [
    "# Turn on/off to enable/disable debugging\n",
    "debug = False\n",
    "\n",
    "# Find out if s1 and s2 strings are anagram of each other\n",
    "# @param {string, string} input strings\n",
    "# @return {bool} if strings are anagram of each other or not\n",
    "def is_anagram(s1, s2):\n",
    "    s1 = list(s1)\n",
    "    # Sort a string and then compare with each other\n",
    "    s1.sort()   # Quick sort O(n*log(n))\n",
    "    return s1 == s2\n",
    "\n",
    "# Find out sorted(possible substring of s) and compare with sorted(t).\n",
    "# @param {string, string} input strings\n",
    "# @return {bool} Question1 answer\n",
    "def question1(s, t):\n",
    "    global debug\n",
    "    match_length = len(t)\n",
    "    pattern_length = len(s)\n",
    "    sorted_t = list(t)\n",
    "    sorted_t.sort()     # Quick sort O(n*log(n))\n",
    "\n",
    "    for i in range(pattern_length - match_length + 1):\n",
    "        if debug:\n",
    "            print (s[i: i+match_length], t)\n",
    "        if is_anagram(s[i: i+match_length], sorted_t):\n",
    "            return True\n",
    "    return False\n",
    "\n",
    "s1 = 'udacity'\n",
    "t1 = 'ad'\n",
    "s2 = 'udacity'\n",
    "t2 = 'da'\n",
    "s3 = 'bbbaaccc'\n",
    "t3 = 'bac'\n",
    "\n",
    "print question1(s1,t1), question1(s2,t2), question1(s3,t3)\n",
    "\n"
   ]
  },
  {
   "cell_type": "markdown",
   "metadata": {},
   "source": [
    "Case1 : t1 is a subset of s1\n",
    "\n",
    "Case2 : t2 is a subset of s2\n",
    "\n",
    "Case3 : t3 is a subset of s3\n",
    "\n",
    "Case4 : t4 is not a subset of s4"
   ]
  },
  {
   "cell_type": "code",
   "execution_count": null,
   "metadata": {
    "collapsed": true
   },
   "outputs": [],
   "source": []
  },
  {
   "cell_type": "markdown",
   "metadata": {},
   "source": [
    "Your paragraph should not be a detailed walkthrough of the code you provided, but provide your reasoning behind decisions made in the code. For example, why did you use that data structure? You also need to explain the efficiency (time and space) of your solution.\n",
    "\n",
    "I choose set as data structure to solve this problem. Because it takes only O(1) to lookup an element in a set whereas it requires O(n) with list. In this case the average time efficiency for solution is O(len(t)). And the space complexity for this is O(set(list(s)) + set(list(t)), it means it stores only unordered unique characters of list of characters of each string, the storage space should be smaller than O(len(s) + len(t))"
   ]
  },
  {
   "cell_type": "code",
   "execution_count": null,
   "metadata": {
    "collapsed": true
   },
   "outputs": [],
   "source": []
  },
  {
   "cell_type": "markdown",
   "metadata": {},
   "source": [
    "# Question 2\n",
    "Given a string a, find the longest palindromic substring contained in a. Your function definition should look like question2(a), and return a string.\n",
    "\n"
   ]
  },
  {
   "cell_type": "code",
   "execution_count": 1,
   "metadata": {
    "collapsed": false
   },
   "outputs": [
    {
     "name": "stdout",
     "output_type": "stream",
     "text": [
      "aaa\n",
      "geeksskeeg\n",
      "\n"
     ]
    }
   ],
   "source": [
    "\"\"\"\n",
    "Question 2\n",
    "Given a string a, find the longest palindromic substring contained in a.\n",
    "Your function definition should look like question2(a), and return a string.\n",
    "\"\"\"\n",
    "# @param {string} s input string\n",
    "# @return {bool} if string is palindrome or not\n",
    "def isPalindrome(s):\n",
    "    if not s:\n",
    "        return False\n",
    "    # reverse compare\n",
    "    return s == s[::-1]\n",
    "\n",
    "# @param {string} s input string\n",
    "# @return {string} the longest palindromic substring\n",
    "def question2(s):\n",
    "    if not s:\n",
    "        return \"\"\n",
    "\n",
    "    n = len(s)\n",
    "    longest, low, high = 0, 0, 0\n",
    "    for i in xrange(0, n):\n",
    "        for j in xrange(i + 1, n + 1):\n",
    "            substr = s[i:j]\n",
    "            if isPalindrome(substr) and len(substr) > longest:\n",
    "                longest = len(substr)\n",
    "                low, high = i, j\n",
    "    # construct longest substr\n",
    "    result = s[low:high]\n",
    "    return result\n",
    "\n",
    "print question2(\"aaabc\")\n",
    "print question2(\"forgeeksskeegfor\")\n",
    "print question2(None)\n"
   ]
  },
  {
   "cell_type": "code",
   "execution_count": null,
   "metadata": {
    "collapsed": true
   },
   "outputs": [],
   "source": []
  },
  {
   "cell_type": "markdown",
   "metadata": {},
   "source": [
    "There are 2 for loops which iterate to each letter of a string. Let n be the length of the given string. Therefore the worst case for time complexity of this solution is O(n) * O(n), or O(n^2)\n",
    "Space Complexity : O(n^2)"
   ]
  },
  {
   "cell_type": "markdown",
   "metadata": {},
   "source": [
    "# Question 3\n",
    "Given an undirected graph G, find the minimum spanning tree within G. A minimum spanning tree connects all vertices in a graph with the smallest possible total weight of edges. Your function should take in and return an adjacency list structured like this:\n",
    "\n",
    "```\n",
    "{'A': [('B', 2)],\n",
    " 'B': [('A', 2), ('C', 5)], \n",
    " 'C': [('B', 5)]}\n",
    "```\n",
    "\n",
    "Vertices are represented as unique strings. The function definition should be question3(G)\n"
   ]
  },
  {
   "cell_type": "code",
   "execution_count": 134,
   "metadata": {
    "collapsed": false
   },
   "outputs": [
    {
     "name": "stdout",
     "output_type": "stream",
     "text": [
      "{}\n",
      "{'A': [('B', 2)], 'B': [('C', 5)]}\n",
      "{'A': [('B', 2)], 'B': [('C', 5), ('D', 3)], 'D': [('E', 2)]}\n"
     ]
    }
   ],
   "source": [
    "\"\"\"\n",
    "Gained intuitions from these videos:\n",
    "Disjoint Sets : https://www.youtube.com/watch?v=UBY4sF86KEY\n",
    "Kruskal Algorithm : https://www.youtube.com/watch?v=5xosHRdxqHA\n",
    "\"\"\"\n",
    "parent = {}\n",
    "rank = {}\n",
    "\n",
    "# initialize disjoint sets. each set contains one vertice. rank is used to keep the \n",
    "# tree MST flat as much as possible for faster search.\n",
    "def make_set(vertice):\n",
    "    parent[vertice] = vertice\n",
    "    rank[vertice] = 0\n",
    "\n",
    "# find the set to which this vertice belongs\n",
    "def find(vertice):\n",
    "    if parent[vertice] != vertice:\n",
    "        parent[vertice] = find(parent[vertice])\n",
    "    return parent[vertice]\n",
    "\n",
    "# merge the sets represented by these two given root nodes\n",
    "def union(vertice1, vertice2):\n",
    "    root1 = find(vertice1)\n",
    "    root2 = find(vertice2)\n",
    "    if root1 != root2:\n",
    "        if rank[root1] > rank[root2]:\n",
    "            parent[root2] = root1\n",
    "        else:\n",
    "            parent[root1] = root2\n",
    "            if rank[root1] == rank[root2]: rank[root2] += 1\n",
    "\n",
    "# perform kruskal algorithm to find mst\n",
    "def kruskal(vertices, edges):\n",
    "    minimum_spanning_tree = set()\n",
    "    for vertice in vertices:\n",
    "        make_set(vertice)\n",
    "\n",
    "    # sort edges by increasing weights\n",
    "    edges = sorted(edges, key=lambda x : x[2])\n",
    "    \n",
    "    \n",
    "    for edge in edges:\n",
    "        vertice1, vertice2, wt = edge\n",
    "        if find(vertice1) != find(vertice2):\n",
    "            union(vertice1, vertice2)\n",
    "            minimum_spanning_tree.add(edge)\n",
    "            \n",
    "    return minimum_spanning_tree\n",
    "\n",
    "# main\n",
    "def question3(G):\n",
    "    \n",
    "    graph = G\n",
    "    vertices = []\n",
    "    edges = []\n",
    "    \n",
    "    # pre process given input graph and extract all vertices and edges\n",
    "    for vertice in graph.keys():\n",
    "        # collect vertices\n",
    "        vertices.append(vertice)\n",
    "        # build edge tuples\n",
    "        verticeEdges = graph[vertice]\n",
    "        for verticeEdge in verticeEdges:\n",
    "            fromNode = vertice\n",
    "            toNode, weight = verticeEdge\n",
    "            edges.append((fromNode, toNode, weight))\n",
    "\n",
    "    # perform Kruskal algo\n",
    "    ms_tree = kruskal(vertices, edges)\n",
    "    \n",
    "    # post process results into the required output format\n",
    "    output = {}\n",
    "    for node in ms_tree:\n",
    "        fromNode, toNode, weight = node\n",
    "        \n",
    "        if toNode < fromNode:\n",
    "            fromNode = node[1]\n",
    "            toNode = node[0]\n",
    "            \n",
    "        if fromNode in output:\n",
    "            output[fromNode].append((toNode, weight))\n",
    "        else:\n",
    "            output[fromNode] = [(toNode, weight)]\n",
    "            \n",
    "    return output\n",
    "\n",
    "print question3({})\n",
    "print question3({'A': [('B', 2)],\n",
    " 'B': [('A', 2), ('C', 5)], \n",
    " 'C': [('B', 5)]})\n",
    "print question3({'A': [('B', 2), ('C', 7)],\n",
    "     'B': [('A', 2), ('C', 5), ('D', 3), ('E', 4)],\n",
    "     'C': [('A', 7), ('B', 5)],\n",
    "     'D': [('B', 3), ('E', 2)],\n",
    "     'E': [('B', 4), ('D', 2)],\n",
    "    })"
   ]
  },
  {
   "cell_type": "code",
   "execution_count": null,
   "metadata": {
    "collapsed": true
   },
   "outputs": [],
   "source": []
  },
  {
   "cell_type": "markdown",
   "metadata": {},
   "source": []
  },
  {
   "cell_type": "code",
   "execution_count": null,
   "metadata": {
    "collapsed": true
   },
   "outputs": [],
   "source": []
  },
  {
   "cell_type": "markdown",
   "metadata": {},
   "source": [
    "\n",
    "# Question 4\n",
    "Find the least common ancestor between two nodes on a binary search tree. The least common ancestor is the farthest node from the root that is an ancestor of both nodes. For example, the root is a common ancestor of all nodes on the tree, but if both nodes are descendents of the root's left child, then that left child might be the lowest common ancestor. You can assume that both nodes are in the tree, and the tree itself adheres to all BST properties. The function definition should look like question4(T, r, n1, n2), where T is the tree represented as a matrix, where the index of the list is equal to the integer stored in that node and a 1 represents a child node, r is a non-negative integer representing the root, and n1 and n2 are non-negative integers representing the two nodes in no particular order. For example, one test case might be\n",
    "\n",
    "```\n",
    "question4([[0, 1, 0, 0, 0],\n",
    "           [0, 0, 0, 0, 0],\n",
    "           [0, 0, 0, 0, 0],\n",
    "           [1, 0, 0, 0, 1],\n",
    "           [0, 0, 0, 0, 0]],\n",
    "          3,\n",
    "          1,\n",
    "          4)\n",
    "```\n",
    "\n",
    "and the answer would be 3.\n",
    "\n"
   ]
  },
  {
   "cell_type": "code",
   "execution_count": 128,
   "metadata": {
    "collapsed": false
   },
   "outputs": [
    {
     "name": "stdout",
     "output_type": "stream",
     "text": [
      "3\n",
      "2\n",
      "1\n"
     ]
    }
   ],
   "source": [
    "class Node(object):\n",
    "    def __init__(self, value):\n",
    "        self.value = value\n",
    "        self.left = None\n",
    "        self.right = None\n",
    "\n",
    "class BST(object):\n",
    "    def __init__(self, root):\n",
    "        self.root = Node(root)\n",
    "    \n",
    "    # Function to insert new node \n",
    "    def insert(self, new_val):\n",
    "        self.insert_helper(self.root, new_val)\n",
    "\n",
    "    def insert_helper(self, current, new_val):\n",
    "        if current.value < new_val:\n",
    "            if current.right:\n",
    "                self.insert_helper(current.right, new_val)\n",
    "            else:\n",
    "                current.right = Node(new_val)\n",
    "        else:\n",
    "            if current.left:\n",
    "                self.insert_helper(current.left, new_val)\n",
    "            else:\n",
    "                current.left = Node(new_val)\n",
    "    \n",
    "    # Function to find LCA of n1 and n2\n",
    "    def lca(self, n1, n2):\n",
    "        return self.lca_helper(self.root, n1, n2)\n",
    "\n",
    "    def lca_helper(self, current, n1, n2):\n",
    "        if current:\n",
    "            ## if n1 and n2 are smaller than node value\n",
    "            ## lies in the left\n",
    "            if (current.value > n1 and current.value > n2):\n",
    "                return self.lca_helper(current.left, n1, n2)\n",
    "            ## if n1 and n2 are larger than node value\n",
    "            ## lies in the right\n",
    "            elif (current.value < n1 and current.value < n2):\n",
    "                return self.lca_helper(current.right, n1, n2)\n",
    "            else:\n",
    "                return current.value\n",
    "        return False\n",
    "\n",
    "\n",
    "def BST_add(BSTree, T, list_of_indices):\n",
    "    temp = []\n",
    "    for index in list_of_indices:\n",
    "        for i, elem in enumerate(T[index]):\n",
    "            if elem == 1:\n",
    "                BSTree.insert(i)\n",
    "                temp.append(i)\n",
    "    return temp    \n",
    "    \n",
    "def question4(T, r, n1, n2):\n",
    "    # Create a Binary Search Tree from given matrix and root\n",
    "    tree = BST(r)\n",
    "    list_of_index = BST_add(tree, T, [r])\n",
    "    if list_of_index:\n",
    "        list_of_index = BST_add(tree, T, list_of_index)\n",
    "        \n",
    "    # return the least common ancestor\n",
    "    return tree.lca(n1,n2)\n",
    "\n",
    "\n",
    "print question4([[0, 1, 0, 0, 0],\n",
    "                 [0, 0, 0, 0, 0],\n",
    "                 [0, 0, 0, 0, 0],\n",
    "                 [1, 0, 0, 0, 1],\n",
    "                 [0, 0, 0, 0, 0]],\n",
    "                  3,\n",
    "                  1,\n",
    "                  4)\n",
    "\n",
    "print question4([[0, 0, 0, 0, 0, 0],\n",
    "                 [1, 0, 0, 0, 0, 0],\n",
    "                 [0, 1, 0, 1, 0, 0],\n",
    "                 [0, 0, 0, 0, 0, 0],\n",
    "                 [0, 0, 1, 0, 0, 1],\n",
    "                 [0, 0, 0, 0, 0, 0]],\n",
    "                 4,\n",
    "                 1,\n",
    "                 3)\n",
    "\n",
    "print question4([[0, 0, 0, 0, 0, 0],\n",
    "                 [1, 0, 0, 0, 0, 0],\n",
    "                 [0, 1, 0, 1, 0, 0],\n",
    "                 [0, 0, 0, 0, 0, 0],\n",
    "                 [0, 0, 1, 0, 0, 1],\n",
    "                 [0, 0, 0, 0, 0, 0]],\n",
    "                 4,\n",
    "                 1,\n",
    "                 0)"
   ]
  },
  {
   "cell_type": "markdown",
   "metadata": {},
   "source": [
    "# Question 5\n",
    "Find the element in a singly linked list that's m elements from the end. For example, if a linked list has 5 elements, the 3rd element from the end is the 3rd element. The function definition should look like question5(ll, m), where ll is the first node of a linked list and m is the \"mth number from the end\". You should copy/paste the Node class below to use as a representation of a node in the linked list. Return the value of the node at that position.\n",
    "\n",
    "```\n",
    "class Node(object):\n",
    "  def __init__(self, data):\n",
    "    self.data = data\n",
    "    self.next = None\n",
    "```"
   ]
  },
  {
   "cell_type": "code",
   "execution_count": 163,
   "metadata": {
    "collapsed": false
   },
   "outputs": [
    {
     "name": "stdout",
     "output_type": "stream",
     "text": [
      "20\n"
     ]
    }
   ],
   "source": [
    "root = None\n",
    "\n",
    "class Node(object):\n",
    "    def __init__(self, data):\n",
    "        self.data = data\n",
    "        self.next = None\n",
    "\n",
    "# Function to insert a new node at the beginning\n",
    "def insert(new_data):\n",
    "    global root\n",
    "    new_node = Node(new_data)\n",
    "    new_node.next = root\n",
    "    root = new_node\n",
    "\n",
    "def question5(root, n):\n",
    "    main_pointer = root\n",
    "    reference_pointer = root\n",
    "    count  = 0\n",
    "\n",
    "    if(root is not None):\n",
    "        while(count < n ):\n",
    "            if(reference_pointer is None):\n",
    "                print \"%d is greater than the no. of nodes in list\" %(n)\n",
    "                return ''\n",
    "            reference_pointer = reference_pointer.next\n",
    "            count += 1\n",
    "\n",
    "    while(reference_pointer is not None):\n",
    "        main_pointer = main_pointer.next\n",
    "        reference_pointer = reference_pointer.next\n",
    "\n",
    "    return main_pointer.data\n",
    "\n",
    "\n",
    "# Main program\n",
    "def main():\n",
    "    global root\n",
    "    # Make linked list 10->20->30->40->50\n",
    "    insert(50)\n",
    "    insert(40)\n",
    "    insert(30)\n",
    "    insert(20)\n",
    "    insert(10)\n",
    "    print question5(root, 4)\n",
    "\n",
    "if __name__ == '__main__':\n",
    "    main()\n"
   ]
  },
  {
   "cell_type": "code",
   "execution_count": 169,
   "metadata": {
    "collapsed": true
   },
   "outputs": [],
   "source": [
    "class Node(object):\n",
    "    def __init__(self, data):\n",
    "        self.data = data\n",
    "        self.next = None\n",
    "\n",
    "class LinkedList(object):\n",
    "    def __init__(self):\n",
    "        self.root = None\n",
    "\n",
    "    def add(self, new_val):\n",
    "        new_node = Node(new_val)\n",
    "        if self.root == None:\n",
    "            self.root = new_node\n",
    "        else:\n",
    "            new_node.next = self.root\n",
    "            self.root = new_node\n",
    "\n",
    "def question5(ll, n):\n",
    "    main_pointer = ll.root\n",
    "    reference_pointer = ll.root\n",
    "    count  = 0\n",
    "\n",
    "    if(ll.root is not None):\n",
    "        while(count < n ):\n",
    "            if(reference_pointer is None):\n",
    "                print \"%d is out of the boundary of the list\" %(n)\n",
    "                return ''\n",
    "            reference_pointer = reference_pointer.next\n",
    "            count += 1\n",
    "\n",
    "    while(reference_pointer is not None):\n",
    "        main_pointer = main_pointer.next\n",
    "        reference_pointer = reference_pointer.next\n",
    "\n",
    "    return main_pointer.data"
   ]
  },
  {
   "cell_type": "code",
   "execution_count": 170,
   "metadata": {
    "collapsed": false
   },
   "outputs": [
    {
     "data": {
      "text/plain": [
       "50"
      ]
     },
     "execution_count": 170,
     "metadata": {},
     "output_type": "execute_result"
    }
   ],
   "source": [
    "ll = LinkedList()\n",
    "ll.add(50)\n",
    "ll.root.data"
   ]
  },
  {
   "cell_type": "code",
   "execution_count": 159,
   "metadata": {
    "collapsed": false
   },
   "outputs": [
    {
     "data": {
      "text/plain": [
       "10"
      ]
     },
     "execution_count": 159,
     "metadata": {},
     "output_type": "execute_result"
    }
   ],
   "source": [
    "ll.root.data"
   ]
  },
  {
   "cell_type": "code",
   "execution_count": 172,
   "metadata": {
    "collapsed": false
   },
   "outputs": [
    {
     "data": {
      "text/plain": [
       "20"
      ]
     },
     "execution_count": 172,
     "metadata": {},
     "output_type": "execute_result"
    }
   ],
   "source": [
    "question5(ll,4)"
   ]
  },
  {
   "cell_type": "code",
   "execution_count": 171,
   "metadata": {
    "collapsed": true
   },
   "outputs": [],
   "source": [
    "ll.add(40)\n",
    "ll.add(30)\n",
    "ll.add(20)\n",
    "ll.add(10)"
   ]
  },
  {
   "cell_type": "code",
   "execution_count": null,
   "metadata": {
    "collapsed": true
   },
   "outputs": [],
   "source": []
  },
  {
   "cell_type": "code",
   "execution_count": 5,
   "metadata": {
    "collapsed": false
   },
   "outputs": [
    {
     "name": "stdout",
     "output_type": "stream",
     "text": [
      "3\n",
      "2\n",
      "4\n"
     ]
    }
   ],
   "source": [
    "def lca(T, r, n1, n2):\n",
    "    if (r > n1 and r > n2):\n",
    "        for i, elem in enumerate(T[r]):\n",
    "            if (elem == 1 and i < r):\n",
    "                return lca(T, i, n1, n2)\n",
    "    elif ( r < n1 and r < n2):\n",
    "        for i, elem in enumerate(T[r]):\n",
    "            if (elem == 1 and i > r):\n",
    "                return lca(T, i, n1, n2)\n",
    "    else:\n",
    "        return r\n",
    "\n",
    "def question4(T, r, n1, n2):\n",
    "    return lca(T, r, n1, n2)\n",
    "\n",
    "print question4([[0, 1, 0, 0, 0],\n",
    "                 [0, 0, 0, 0, 0],\n",
    "                 [0, 0, 0, 0, 0],\n",
    "                 [1, 0, 0, 0, 1],\n",
    "                 [0, 0, 0, 0, 0]],\n",
    "                  3,\n",
    "                  1,\n",
    "                  4)\n",
    "\n",
    "print question4([[0, 0, 0, 0, 0, 0],\n",
    "                 [1, 0, 0, 0, 0, 0],\n",
    "                 [0, 1, 0, 1, 0, 0],\n",
    "                 [0, 0, 0, 0, 0, 0],\n",
    "                 [0, 0, 1, 0, 0, 1],\n",
    "                 [0, 0, 0, 0, 0, 0]],\n",
    "                 4,\n",
    "                 1,\n",
    "                 3)\n",
    "\n",
    "print question4([[0, 0, 0, 0, 0, 0],\n",
    "                 [1, 0, 0, 0, 0, 0],\n",
    "                 [0, 1, 0, 1, 0, 0],\n",
    "                 [0, 0, 0, 0, 0, 0],\n",
    "                 [0, 0, 1, 0, 0, 1],\n",
    "                 [0, 0, 0, 0, 0, 0]],\n",
    "                 4,\n",
    "                 1,\n",
    "                 5)"
   ]
  },
  {
   "cell_type": "code",
   "execution_count": null,
   "metadata": {
    "collapsed": true
   },
   "outputs": [],
   "source": []
  },
  {
   "cell_type": "code",
   "execution_count": null,
   "metadata": {
    "collapsed": true
   },
   "outputs": [],
   "source": []
  },
  {
   "cell_type": "code",
   "execution_count": null,
   "metadata": {
    "collapsed": true
   },
   "outputs": [],
   "source": []
  },
  {
   "cell_type": "code",
   "execution_count": null,
   "metadata": {
    "collapsed": true
   },
   "outputs": [],
   "source": []
  },
  {
   "cell_type": "code",
   "execution_count": null,
   "metadata": {
    "collapsed": true
   },
   "outputs": [],
   "source": []
  },
  {
   "cell_type": "code",
   "execution_count": null,
   "metadata": {
    "collapsed": true
   },
   "outputs": [],
   "source": []
  },
  {
   "cell_type": "code",
   "execution_count": null,
   "metadata": {
    "collapsed": true
   },
   "outputs": [],
   "source": []
  }
 ],
 "metadata": {
  "kernelspec": {
   "display_name": "Python 2",
   "language": "python",
   "name": "python2"
  },
  "language_info": {
   "codemirror_mode": {
    "name": "ipython",
    "version": 2
   },
   "file_extension": ".py",
   "mimetype": "text/x-python",
   "name": "python",
   "nbconvert_exporter": "python",
   "pygments_lexer": "ipython2",
   "version": "2.7.11"
  }
 },
 "nbformat": 4,
 "nbformat_minor": 0
}
