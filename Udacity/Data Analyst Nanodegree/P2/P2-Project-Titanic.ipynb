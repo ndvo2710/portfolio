{
 "cells": [
  {
   "cell_type": "markdown",
   "metadata": {
    "collapsed": true
   },
   "source": [
    "# Analyzing the Titanic Dataset\n",
    "by Kevin Vo"
   ]
  },
  {
   "cell_type": "code",
   "execution_count": 1,
   "metadata": {
    "collapsed": true
   },
   "outputs": [],
   "source": [
    "# Set up\n",
    "import pandas as pd\n",
    "import numpy as np\n",
    "import matplotlib.pyplot as plt\n",
    "import seaborn as sns\n",
    "import scipy.stats as stat"
   ]
  },
  {
   "cell_type": "markdown",
   "metadata": {},
   "source": [
    "### I. TIDY DATA\n",
    "\n",
    "* The given data is:"
   ]
  },
  {
   "cell_type": "code",
   "execution_count": 2,
   "metadata": {
    "collapsed": false
   },
   "outputs": [
    {
     "data": {
      "text/html": [
       "<div>\n",
       "<table border=\"1\" class=\"dataframe\">\n",
       "  <thead>\n",
       "    <tr style=\"text-align: right;\">\n",
       "      <th></th>\n",
       "      <th>PassengerId</th>\n",
       "      <th>Survived</th>\n",
       "      <th>Pclass</th>\n",
       "      <th>Name</th>\n",
       "      <th>Sex</th>\n",
       "      <th>Age</th>\n",
       "      <th>SibSp</th>\n",
       "      <th>Parch</th>\n",
       "      <th>Ticket</th>\n",
       "      <th>Fare</th>\n",
       "      <th>Cabin</th>\n",
       "      <th>Embarked</th>\n",
       "    </tr>\n",
       "  </thead>\n",
       "  <tbody>\n",
       "    <tr>\n",
       "      <th>0</th>\n",
       "      <td>1</td>\n",
       "      <td>0</td>\n",
       "      <td>3</td>\n",
       "      <td>Braund, Mr. Owen Harris</td>\n",
       "      <td>male</td>\n",
       "      <td>22.0</td>\n",
       "      <td>1</td>\n",
       "      <td>0</td>\n",
       "      <td>A/5 21171</td>\n",
       "      <td>7.2500</td>\n",
       "      <td>NaN</td>\n",
       "      <td>S</td>\n",
       "    </tr>\n",
       "    <tr>\n",
       "      <th>1</th>\n",
       "      <td>2</td>\n",
       "      <td>1</td>\n",
       "      <td>1</td>\n",
       "      <td>Cumings, Mrs. John Bradley (Florence Briggs Th...</td>\n",
       "      <td>female</td>\n",
       "      <td>38.0</td>\n",
       "      <td>1</td>\n",
       "      <td>0</td>\n",
       "      <td>PC 17599</td>\n",
       "      <td>71.2833</td>\n",
       "      <td>C85</td>\n",
       "      <td>C</td>\n",
       "    </tr>\n",
       "    <tr>\n",
       "      <th>2</th>\n",
       "      <td>3</td>\n",
       "      <td>1</td>\n",
       "      <td>3</td>\n",
       "      <td>Heikkinen, Miss. Laina</td>\n",
       "      <td>female</td>\n",
       "      <td>26.0</td>\n",
       "      <td>0</td>\n",
       "      <td>0</td>\n",
       "      <td>STON/O2. 3101282</td>\n",
       "      <td>7.9250</td>\n",
       "      <td>NaN</td>\n",
       "      <td>S</td>\n",
       "    </tr>\n",
       "    <tr>\n",
       "      <th>3</th>\n",
       "      <td>4</td>\n",
       "      <td>1</td>\n",
       "      <td>1</td>\n",
       "      <td>Futrelle, Mrs. Jacques Heath (Lily May Peel)</td>\n",
       "      <td>female</td>\n",
       "      <td>35.0</td>\n",
       "      <td>1</td>\n",
       "      <td>0</td>\n",
       "      <td>113803</td>\n",
       "      <td>53.1000</td>\n",
       "      <td>C123</td>\n",
       "      <td>S</td>\n",
       "    </tr>\n",
       "    <tr>\n",
       "      <th>4</th>\n",
       "      <td>5</td>\n",
       "      <td>0</td>\n",
       "      <td>3</td>\n",
       "      <td>Allen, Mr. William Henry</td>\n",
       "      <td>male</td>\n",
       "      <td>35.0</td>\n",
       "      <td>0</td>\n",
       "      <td>0</td>\n",
       "      <td>373450</td>\n",
       "      <td>8.0500</td>\n",
       "      <td>NaN</td>\n",
       "      <td>S</td>\n",
       "    </tr>\n",
       "  </tbody>\n",
       "</table>\n",
       "</div>"
      ],
      "text/plain": [
       "   PassengerId  Survived  Pclass  \\\n",
       "0            1         0       3   \n",
       "1            2         1       1   \n",
       "2            3         1       3   \n",
       "3            4         1       1   \n",
       "4            5         0       3   \n",
       "\n",
       "                                                Name     Sex   Age  SibSp  \\\n",
       "0                            Braund, Mr. Owen Harris    male  22.0      1   \n",
       "1  Cumings, Mrs. John Bradley (Florence Briggs Th...  female  38.0      1   \n",
       "2                             Heikkinen, Miss. Laina  female  26.0      0   \n",
       "3       Futrelle, Mrs. Jacques Heath (Lily May Peel)  female  35.0      1   \n",
       "4                           Allen, Mr. William Henry    male  35.0      0   \n",
       "\n",
       "   Parch            Ticket     Fare Cabin Embarked  \n",
       "0      0         A/5 21171   7.2500   NaN        S  \n",
       "1      0          PC 17599  71.2833   C85        C  \n",
       "2      0  STON/O2. 3101282   7.9250   NaN        S  \n",
       "3      0            113803  53.1000  C123        S  \n",
       "4      0            373450   8.0500   NaN        S  "
      ]
     },
     "execution_count": 2,
     "metadata": {},
     "output_type": "execute_result"
    }
   ],
   "source": [
    "# Import titanic data into a data frame\n",
    "filename = 'titanic_data.csv'\n",
    "titanic_df = pd.read_csv(filename)\n",
    "titanic_df.head()"
   ]
  },
  {
   "cell_type": "markdown",
   "metadata": {},
   "source": [
    "However, the data contains too many variables. Since our interest is factors made people more likely to survive, therefore I will remove these variables from the dataset: **Name, SibSp, Parch, Ticket**, also **Cabin** (I have looked at all the values of Cabin. There is not enough information that need to consider this as a factor) and **Embarked**."
   ]
  },
  {
   "cell_type": "code",
   "execution_count": 3,
   "metadata": {
    "collapsed": false
   },
   "outputs": [
    {
     "data": {
      "text/html": [
       "<div>\n",
       "<table border=\"1\" class=\"dataframe\">\n",
       "  <thead>\n",
       "    <tr style=\"text-align: right;\">\n",
       "      <th></th>\n",
       "      <th>PassengerId</th>\n",
       "      <th>Survived</th>\n",
       "      <th>Pclass</th>\n",
       "      <th>Sex</th>\n",
       "      <th>Age</th>\n",
       "      <th>Fare</th>\n",
       "    </tr>\n",
       "  </thead>\n",
       "  <tbody>\n",
       "    <tr>\n",
       "      <th>0</th>\n",
       "      <td>1</td>\n",
       "      <td>0</td>\n",
       "      <td>3</td>\n",
       "      <td>male</td>\n",
       "      <td>22.0</td>\n",
       "      <td>7.2500</td>\n",
       "    </tr>\n",
       "    <tr>\n",
       "      <th>1</th>\n",
       "      <td>2</td>\n",
       "      <td>1</td>\n",
       "      <td>1</td>\n",
       "      <td>female</td>\n",
       "      <td>38.0</td>\n",
       "      <td>71.2833</td>\n",
       "    </tr>\n",
       "    <tr>\n",
       "      <th>2</th>\n",
       "      <td>3</td>\n",
       "      <td>1</td>\n",
       "      <td>3</td>\n",
       "      <td>female</td>\n",
       "      <td>26.0</td>\n",
       "      <td>7.9250</td>\n",
       "    </tr>\n",
       "    <tr>\n",
       "      <th>3</th>\n",
       "      <td>4</td>\n",
       "      <td>1</td>\n",
       "      <td>1</td>\n",
       "      <td>female</td>\n",
       "      <td>35.0</td>\n",
       "      <td>53.1000</td>\n",
       "    </tr>\n",
       "    <tr>\n",
       "      <th>4</th>\n",
       "      <td>5</td>\n",
       "      <td>0</td>\n",
       "      <td>3</td>\n",
       "      <td>male</td>\n",
       "      <td>35.0</td>\n",
       "      <td>8.0500</td>\n",
       "    </tr>\n",
       "  </tbody>\n",
       "</table>\n",
       "</div>"
      ],
      "text/plain": [
       "   PassengerId  Survived  Pclass     Sex   Age     Fare\n",
       "0            1         0       3    male  22.0   7.2500\n",
       "1            2         1       1  female  38.0  71.2833\n",
       "2            3         1       3  female  26.0   7.9250\n",
       "3            4         1       1  female  35.0  53.1000\n",
       "4            5         0       3    male  35.0   8.0500"
      ]
     },
     "execution_count": 3,
     "metadata": {},
     "output_type": "execute_result"
    }
   ],
   "source": [
    "titanic_df.drop(['SibSp','Parch','Ticket','Cabin','Embarked','Name'], axis = 1, inplace = True)\n",
    "titanic_df.head()"
   ]
  },
  {
   "cell_type": "markdown",
   "metadata": {},
   "source": [
    "Currently, the dimension of Titanic data frame is:"
   ]
  },
  {
   "cell_type": "code",
   "execution_count": 4,
   "metadata": {
    "collapsed": false
   },
   "outputs": [
    {
     "data": {
      "text/plain": [
       "(891, 6)"
      ]
     },
     "execution_count": 4,
     "metadata": {},
     "output_type": "execute_result"
    }
   ],
   "source": [
    "titanic_df.shape"
   ]
  },
  {
   "cell_type": "markdown",
   "metadata": {},
   "source": [
    "* **Missing Data**: Let's check how many NAs are there in each variable(column)"
   ]
  },
  {
   "cell_type": "code",
   "execution_count": 5,
   "metadata": {
    "collapsed": false
   },
   "outputs": [
    {
     "name": "stdout",
     "output_type": "stream",
     "text": [
      "PassengerId      0\n",
      "Survived         0\n",
      "Pclass           0\n",
      "Sex              0\n",
      "Age            177\n",
      "Fare             0\n",
      "dtype: int64\n"
     ]
    }
   ],
   "source": [
    "if True:\n",
    "    def number_of_NA(column):\n",
    "        return column.size - column.dropna(axis = 0).size\n",
    "    print titanic_df.apply(number_of_NA)"
   ]
  },
  {
   "cell_type": "markdown",
   "metadata": {},
   "source": [
    "So only **Age** contains 177 *NA*. We should only drop these NAs when we analyze **Survived** condtion by **Age** separately. Therefore, we will handle this issue later."
   ]
  },
  {
   "cell_type": "markdown",
   "metadata": {},
   "source": [
    "### II. DATA EXPLORATION & VISUALIZATION"
   ]
  },
  {
   "cell_type": "markdown",
   "metadata": {},
   "source": [
    "* **SURVIVED AND AGE**:\n",
    "\n",
    "Histogram of Age grouped by Surival Condition"
   ]
  },
  {
   "cell_type": "code",
   "execution_count": 6,
   "metadata": {
    "collapsed": false
   },
   "outputs": [
    {
     "name": "stdout",
     "output_type": "stream",
     "text": [
      "Populating the interactive namespace from numpy and matplotlib\n"
     ]
    },
    {
     "data": {
      "image/png": "[encoded data removed]",
      "text/plain": [
       "<matplotlib.figure.Figure at 0x10db16450>"
      ]
     },
     "metadata": {},
     "output_type": "display_data"
    },
    {
     "name": "stdout",
     "output_type": "stream",
     "text": [
      "Figure 1\n"
     ]
    }
   ],
   "source": [
    "%pylab inline\n",
    "bins = numpy.linspace(0,100,20)\n",
    "plt.hist(titanic_df.groupby('Survived').get_group(0)['Age'].dropna(axis = 0),\n",
    "         bins,histtype='stepfilled',alpha=0.5, color = 'r', label = 'Death')\n",
    "plt.hist(titanic_df.groupby('Survived').get_group(1)['Age'].dropna(axis = 0),\n",
    "         bins,histtype='stepfilled',alpha=0.5, color = 'g', label = 'Survived')\n",
    "plt.title(\"Histogram of Age grouped by Survival condition\")\n",
    "plt.legend(loc = 'upper right')\n",
    "plt.show()\n",
    "print \"Figure 1\""
   ]
  },
  {
   "cell_type": "markdown",
   "metadata": {},
   "source": [
    "The histogram tells us:\n",
    "    + Children are more likely to survive.\n",
    "    + Adults has less chance to survive.\n",
    "    \n",
    "**Question:** Are Death and Survived indifferent at any age?"
   ]
  },
  {
   "cell_type": "markdown",
   "metadata": {},
   "source": [
    "* **SURVIVED AND PCLASS & FARE**:\n",
    "\n",
    "It is clear that the first class passengers will spend more in fare"
   ]
  },
  {
   "cell_type": "code",
   "execution_count": 7,
   "metadata": {
    "collapsed": false
   },
   "outputs": [
    {
     "name": "stdout",
     "output_type": "stream",
     "text": [
      "Figure 2\n"
     ]
    },
    {
     "data": {
      "image/png": "[encoded data removed]",
      "text/plain": [
       "<matplotlib.figure.Figure at 0x10db16510>"
      ]
     },
     "metadata": {},
     "output_type": "display_data"
    }
   ],
   "source": [
    "g = sns.stripplot(x = \"Pclass\", y = \"Fare\", data = titanic_df)\n",
    "print \"Figure 2\""
   ]
  },
  {
   "cell_type": "markdown",
   "metadata": {},
   "source": [
    "So we can choose one of them as a factor that made people more likely to survive. Let's take a look at **Survived** and **Pclass**:"
   ]
  },
  {
   "cell_type": "code",
   "execution_count": 8,
   "metadata": {
    "collapsed": false
   },
   "outputs": [
    {
     "name": "stdout",
     "output_type": "stream",
     "text": [
      "Figure 3\n"
     ]
    },
    {
     "data": {
      "image/png": "[encoded data removed]",
      "text/plain": [
       "<matplotlib.figure.Figure at 0x107623d10>"
      ]
     },
     "metadata": {},
     "output_type": "display_data"
    }
   ],
   "source": [
    "sns.set_style(\"whitegrid\")\n",
    "g = sns.factorplot('Survived', col = 'Pclass', col_wrap = 4, data = titanic_df, kind = 'count', size = 2.5, aspect = .8)\n",
    "sns.despine(left=True)\n",
    "print \"Figure 3\""
   ]
  },
  {
   "cell_type": "markdown",
   "metadata": {},
   "source": [
    "The above chart tells us that people who are poor or lower class were more likely to die."
   ]
  },
  {
   "cell_type": "markdown",
   "metadata": {},
   "source": [
    "* **SURVIVED AND SEX**:"
   ]
  },
  {
   "cell_type": "code",
   "execution_count": 9,
   "metadata": {
    "collapsed": false
   },
   "outputs": [
    {
     "name": "stdout",
     "output_type": "stream",
     "text": [
      "Figure 4\n"
     ]
    },
    {
     "data": {
      "image/png": "[encoded data removed]",
      "text/plain": [
       "<matplotlib.figure.Figure at 0x10dae6cd0>"
      ]
     },
     "metadata": {},
     "output_type": "display_data"
    }
   ],
   "source": [
    "sns.set_style(\"whitegrid\")\n",
    "g = sns.factorplot('Survived', col = 'Sex', col_wrap = 4, data = titanic_df, kind = 'count', size = 2.5, aspect = .8)\n",
    "sns.despine(left=True)\n",
    "print \"Figure 4\""
   ]
  },
  {
   "cell_type": "markdown",
   "metadata": {},
   "source": [
    "The above chart tells us that male is more likely to die."
   ]
  },
  {
   "cell_type": "markdown",
   "metadata": {},
   "source": [
    "### III. STATISTICAL TEST"
   ]
  },
  {
   "cell_type": "markdown",
   "metadata": {},
   "source": [
    "#### 1. SURVIVED AND AGE:"
   ]
  },
  {
   "cell_type": "markdown",
   "metadata": {},
   "source": [
    "#### a. What is our independent vairable? What is our dependent vairable?\n",
    "\n",
    "* The **independent variable** is the **survival** condition: *non-survived(death)* or *survived*\n",
    "\n",
    "* The **dependent variable** is the **Age** of each person in each survival condition group.\n",
    "\n",
    "#### b. What is an appropriate set of hypotheses for this task? What kind of statistical test do you expect to perform? Justify your choices.\n",
    "\n",
    "##### b1)  Hypothesis:\n",
    "\n",
    "**Null Hypothesis**:\n",
    "<u>The two populations represented by the two conditions( survived group and non-survived group) have the same distribution of age.</u> \n",
    "\n",
    "$H_o$: `Age values of two datasets(survived vs non-survived) come from the same population.`\n",
    "\n",
    "$H_a$: `Non-survived group tend to have larger Age values than survived group.`\n",
    "\n",
    "##### b2)  A statistical test is proposed which will distinguish the proposed hypotheses. Any assumptions made by the statistical test are addressed.\n",
    "\n",
    "The **Mann-Whitney U test** is used as a statistical test for this proposed hypothesis. It is chosen based on these following assumptions:\n",
    "\n",
    "* Assumption \\#1: Dependent variable should be measured at the ordinal or continuous level. In this case, age is a continuous variable.\n",
    "\n",
    "* Assumption \\#2: Independent variable should consist of two categorical, independent groups. Our independent variable is surival condtion which is separated by two categorical independent groups: from survived to non-survived.\n",
    "\n",
    "* Assumption \\#3: Independence of observations. It is satisfied because there is not any one who could be in both non-survived group and survived group.\n",
    "\n",
    "* Assumption \\#4:  A Mann-Whitney U test can be used when your two variables are not normally distributed. Based on Figure 1, we can see that the histogram of both groups are not symmetric. They are skewed to the right.\n",
    "\n",
    "#### c. Testing:"
   ]
  },
  {
   "cell_type": "code",
   "execution_count": 10,
   "metadata": {
    "collapsed": false
   },
   "outputs": [
    {
     "name": "stdout",
     "output_type": "stream",
     "text": [
      "Mean age of Survived group is:  28.3436896552\n",
      "Mean age of Non-Survived group is: 30.6261792453\n",
      "U-statistic:  65278.0\n",
      "p-value : 0.160492524777\n"
     ]
    }
   ],
   "source": [
    "with_survived_mean = mean(titanic_df.groupby('Survived').get_group(1)['Age'].dropna(axis = 0))\n",
    "with_non_survived_mean = mean(titanic_df.groupby('Survived').get_group(0)['Age'].dropna(axis = 0))\n",
    "\n",
    "U, p = stat.mannwhitneyu(titanic_df.groupby('Survived').get_group(0)['Age'].dropna(axis = 0),\n",
    "                         titanic_df.groupby('Survived').get_group(1)['Age'].dropna(axis = 0))\n",
    "print \"Mean age of Survived group is: \", with_survived_mean\n",
    "print \"Mean age of Non-Survived group is:\", with_non_survived_mean\n",
    "print \"U-statistic: \", U\n",
    "print \"p-value :\", p"
   ]
  },
  {
   "cell_type": "markdown",
   "metadata": {},
   "source": [
    "U-statistic is very high and the p-value = 0.16 > 0.05 \n",
    "\n",
    "**=>** We fail to reject the null hypothesis at 5% significant level.\n",
    "\n",
    "**Conclusion:** <u>Based on the provided data, We are 95% confident to conclude that age has no effect on survival condition.</u>\n"
   ]
  },
  {
   "cell_type": "markdown",
   "metadata": {},
   "source": [
    "#### 2. SURVIVED AND PCLASS:"
   ]
  },
  {
   "cell_type": "markdown",
   "metadata": {},
   "source": [
    "#### a. What is our independent vairable? What is our dependent vairable?\n",
    "\n",
    "* The **independent variable** is the **survival** condition: *non-survived(death)* or *survived*\n",
    "\n",
    "* The **dependent variable** is the **Pclass** which is social economic status: 1 = Upper, 2 = Middle, 3 = Lower.\n",
    "\n",
    "#### b. What is an appropriate set of hypotheses for this task? What kind of statistical test do you expect to perform? Justify your choices.\n",
    "\n",
    "##### b1)  Hypothesis:\n",
    "\n",
    "**Null Hypothesis**:\n",
    "<u>In the population, the two categorical variables are independent.</u> \n",
    "\n",
    "$H_o$: `In the population, survival variable and Pclass variable are independent.`\n",
    "\n",
    "$H_a$: `In the population, survival variable and Pclass variable are associated (dependent).`\n",
    "\n",
    "##### b2)  A statistical test is proposed which will distinguish the proposed hypotheses. Any assumptions made by the statistical test are addressed.\n",
    "\n",
    "The **Chi-square Test of Independece** is used as a statistical test for this proposed hypothesis. It is chosen because:\n",
    "\n",
    "* Independent and dependent variable are catergorical.\n",
    "* It is a 2x2 contigency table (each case contribute to 1 cell only)\n",
    "* The sample data is large enough.\n",
    "* Each cell in the frequency table is larger than 5 ( Frequency table is shown below)"
   ]
  },
  {
   "cell_type": "code",
   "execution_count": 11,
   "metadata": {
    "collapsed": false
   },
   "outputs": [
    {
     "name": "stdout",
     "output_type": "stream",
     "text": [
      "Frequency Table is:\n"
     ]
    },
    {
     "data": {
      "text/html": [
       "<div>\n",
       "<table border=\"1\" class=\"dataframe\">\n",
       "  <thead>\n",
       "    <tr style=\"text-align: right;\">\n",
       "      <th>Pclass</th>\n",
       "      <th>1</th>\n",
       "      <th>2</th>\n",
       "      <th>3</th>\n",
       "      <th>All</th>\n",
       "    </tr>\n",
       "    <tr>\n",
       "      <th>Survived</th>\n",
       "      <th></th>\n",
       "      <th></th>\n",
       "      <th></th>\n",
       "      <th></th>\n",
       "    </tr>\n",
       "  </thead>\n",
       "  <tbody>\n",
       "    <tr>\n",
       "      <th>0</th>\n",
       "      <td>80.0</td>\n",
       "      <td>97.0</td>\n",
       "      <td>372.0</td>\n",
       "      <td>549.0</td>\n",
       "    </tr>\n",
       "    <tr>\n",
       "      <th>1</th>\n",
       "      <td>136.0</td>\n",
       "      <td>87.0</td>\n",
       "      <td>119.0</td>\n",
       "      <td>342.0</td>\n",
       "    </tr>\n",
       "    <tr>\n",
       "      <th>All</th>\n",
       "      <td>216.0</td>\n",
       "      <td>184.0</td>\n",
       "      <td>491.0</td>\n",
       "      <td>891.0</td>\n",
       "    </tr>\n",
       "  </tbody>\n",
       "</table>\n",
       "</div>"
      ],
      "text/plain": [
       "Pclass        1      2      3    All\n",
       "Survived                            \n",
       "0          80.0   97.0  372.0  549.0\n",
       "1         136.0   87.0  119.0  342.0\n",
       "All       216.0  184.0  491.0  891.0"
      ]
     },
     "execution_count": 11,
     "metadata": {},
     "output_type": "execute_result"
    }
   ],
   "source": [
    "print \"Frequency Table is:\"\n",
    "titanic_df[['Survived','Pclass']].pivot_table(columns= ['Pclass'],index=['Survived'],aggfunc= len, margins = True)"
   ]
  },
  {
   "cell_type": "markdown",
   "metadata": {},
   "source": [
    "<u><b>Notice:</b></u> From the frequency table, we can see a magnitude difference of people who are from lower social class did not survive compared to others. "
   ]
  },
  {
   "cell_type": "markdown",
   "metadata": {},
   "source": [
    "#### c. Testing:"
   ]
  },
  {
   "cell_type": "code",
   "execution_count": 12,
   "metadata": {
    "collapsed": false
   },
   "outputs": [
    {
     "name": "stdout",
     "output_type": "stream",
     "text": [
      "\n",
      "Test Statistic X^2: 102.888988757\n",
      "p-value: 4.5492517113e-23\n",
      "Degrees of Freedom: 2\n",
      "==================================================\n",
      "\n",
      "\t\tExpected table\n"
     ]
    },
    {
     "data": {
      "text/html": [
       "<div>\n",
       "<table border=\"1\" class=\"dataframe\">\n",
       "  <thead>\n",
       "    <tr style=\"text-align: right;\">\n",
       "      <th>Pclass</th>\n",
       "      <th>1</th>\n",
       "      <th>2</th>\n",
       "      <th>3</th>\n",
       "    </tr>\n",
       "    <tr>\n",
       "      <th>Survived</th>\n",
       "      <th></th>\n",
       "      <th></th>\n",
       "      <th></th>\n",
       "    </tr>\n",
       "  </thead>\n",
       "  <tbody>\n",
       "    <tr>\n",
       "      <th>0</th>\n",
       "      <td>133.090909</td>\n",
       "      <td>113.373737</td>\n",
       "      <td>302.535354</td>\n",
       "    </tr>\n",
       "    <tr>\n",
       "      <th>1</th>\n",
       "      <td>82.909091</td>\n",
       "      <td>70.626263</td>\n",
       "      <td>188.464646</td>\n",
       "    </tr>\n",
       "  </tbody>\n",
       "</table>\n",
       "</div>"
      ],
      "text/plain": [
       "Pclass             1           2           3\n",
       "Survived                                    \n",
       "0         133.090909  113.373737  302.535354\n",
       "1          82.909091   70.626263  188.464646"
      ]
     },
     "metadata": {},
     "output_type": "display_data"
    }
   ],
   "source": [
    "chi2, p, ddof, expected = stat.chi2_contingency(\n",
    "    titanic_df[['Survived','Pclass']].pivot_table(columns= ['Pclass'],index=['Survived'],aggfunc= len))\n",
    "expected = pd.DataFrame(expected, index = [0,1], columns = [1,2,3])\n",
    "expected.index.names = ['Survived']\n",
    "expected.columns.names = ['Pclass']\n",
    "msg = \"\"\"\n",
    "Test Statistic X^2: {}\\np-value: {}\\nDegrees of Freedom: {}\n",
    "==================================================\n",
    "\\n\\t\\tExpected table\"\"\"\n",
    "print( msg.format( chi2, p, ddof) )\n",
    "display(expected)"
   ]
  },
  {
   "cell_type": "markdown",
   "metadata": {},
   "source": [
    "As expected, Chi-squared Statistics is very high, and p-value is extremely close to zero. \n",
    "\n",
    "**=>** We reject the null hypothesis at 5% significant level.\n",
    "\n",
    "**Conclusion:** <u>Based on the provided data, we are 95% confident to conclude that there is associated effect of Social Economics Class on Survival Condition. </u>"
   ]
  },
  {
   "cell_type": "markdown",
   "metadata": {},
   "source": [
    "#### 3. SURVIVED AND SEX:"
   ]
  },
  {
   "cell_type": "markdown",
   "metadata": {},
   "source": [
    "#### a. What is our independent vairable? What is our dependent vairable?\n",
    "\n",
    "* The **independent variable** is the **survival** condition: *non-survived(death)* or *survived*\n",
    "\n",
    "* The **dependent variable** is the **Sex** which contains values as: female and male.\n",
    "\n",
    "#### b. What is an appropriate set of hypotheses for this task? What kind of statistical test do you expect to perform? Justify your choices.\n",
    "\n",
    "##### b1)  Hypothesis:\n",
    "\n",
    "**Null Hypothesis**:\n",
    "<u>In the population, the two categorical variables are independent.</u> \n",
    "\n",
    "$H_o$: `In the population, survival variable and Sex variable are independent.`\n",
    "\n",
    "$H_a$: `In the population, survival variable and Sex variable are associated (dependent).`\n",
    "\n",
    "##### b2)  A statistical test is proposed which will distinguish the proposed hypotheses. Any assumptions made by the statistical test are addressed.\n",
    "\n",
    "The **Chi-square Test of Independece** is used as a statistical test for this proposed hypothesis. It is chosen because:\n",
    "\n",
    "* Independent and dependent variable are catergorical.\n",
    "* It is a 2x2 contigency table (each case contribute to 1 cell only)\n",
    "* The sample data is large enough.\n",
    "* Each cell in the frequency table is larger than 5 ( Frequency table is shown below)"
   ]
  },
  {
   "cell_type": "code",
   "execution_count": 13,
   "metadata": {
    "collapsed": false
   },
   "outputs": [
    {
     "name": "stdout",
     "output_type": "stream",
     "text": [
      "Frequency Table is:\n"
     ]
    },
    {
     "data": {
      "text/html": [
       "<div>\n",
       "<table border=\"1\" class=\"dataframe\">\n",
       "  <thead>\n",
       "    <tr style=\"text-align: right;\">\n",
       "      <th>Sex</th>\n",
       "      <th>female</th>\n",
       "      <th>male</th>\n",
       "      <th>All</th>\n",
       "    </tr>\n",
       "    <tr>\n",
       "      <th>Survived</th>\n",
       "      <th></th>\n",
       "      <th></th>\n",
       "      <th></th>\n",
       "    </tr>\n",
       "  </thead>\n",
       "  <tbody>\n",
       "    <tr>\n",
       "      <th>0</th>\n",
       "      <td>81.0</td>\n",
       "      <td>468.0</td>\n",
       "      <td>549.0</td>\n",
       "    </tr>\n",
       "    <tr>\n",
       "      <th>1</th>\n",
       "      <td>233.0</td>\n",
       "      <td>109.0</td>\n",
       "      <td>342.0</td>\n",
       "    </tr>\n",
       "    <tr>\n",
       "      <th>All</th>\n",
       "      <td>314.0</td>\n",
       "      <td>577.0</td>\n",
       "      <td>891.0</td>\n",
       "    </tr>\n",
       "  </tbody>\n",
       "</table>\n",
       "</div>"
      ],
      "text/plain": [
       "Sex       female   male    All\n",
       "Survived                      \n",
       "0           81.0  468.0  549.0\n",
       "1          233.0  109.0  342.0\n",
       "All        314.0  577.0  891.0"
      ]
     },
     "execution_count": 13,
     "metadata": {},
     "output_type": "execute_result"
    }
   ],
   "source": [
    "print \"Frequency Table is:\"\n",
    "titanic_df[['Survived','Sex']].pivot_table(columns= ['Sex'],index=['Survived'],aggfunc= len, margins = True)"
   ]
  },
  {
   "cell_type": "markdown",
   "metadata": {},
   "source": [
    "<u><b>Notice:</b></u> From the frequency table, we can see a magnitude difference of non-survived male compared to others. "
   ]
  },
  {
   "cell_type": "markdown",
   "metadata": {},
   "source": [
    "#### c.Testing"
   ]
  },
  {
   "cell_type": "code",
   "execution_count": 14,
   "metadata": {
    "collapsed": false
   },
   "outputs": [
    {
     "name": "stdout",
     "output_type": "stream",
     "text": [
      "\n",
      "Test Statistic X^2: 260.717020167\n",
      "p-value: 1.19735706278e-58\n",
      "Degrees of Freedom: 1\n",
      "==================================================\n",
      "\n",
      "\t\tExpected table\n"
     ]
    },
    {
     "data": {
      "text/html": [
       "<div>\n",
       "<table border=\"1\" class=\"dataframe\">\n",
       "  <thead>\n",
       "    <tr style=\"text-align: right;\">\n",
       "      <th>Sex</th>\n",
       "      <th>female</th>\n",
       "      <th>male</th>\n",
       "    </tr>\n",
       "    <tr>\n",
       "      <th>Survived</th>\n",
       "      <th></th>\n",
       "      <th></th>\n",
       "    </tr>\n",
       "  </thead>\n",
       "  <tbody>\n",
       "    <tr>\n",
       "      <th>0</th>\n",
       "      <td>193.474747</td>\n",
       "      <td>355.525253</td>\n",
       "    </tr>\n",
       "    <tr>\n",
       "      <th>1</th>\n",
       "      <td>120.525253</td>\n",
       "      <td>221.474747</td>\n",
       "    </tr>\n",
       "  </tbody>\n",
       "</table>\n",
       "</div>"
      ],
      "text/plain": [
       "Sex           female        male\n",
       "Survived                        \n",
       "0         193.474747  355.525253\n",
       "1         120.525253  221.474747"
      ]
     },
     "metadata": {},
     "output_type": "display_data"
    }
   ],
   "source": [
    "chi2, p, ddof, expected = stat.chi2_contingency(\n",
    "    titanic_df[['Survived','Sex']].pivot_table(columns= ['Sex'],index=['Survived'],aggfunc= len))\n",
    "expected = pd.DataFrame(expected, index = [0,1], columns = ['female','male'])\n",
    "expected.index.names = ['Survived']\n",
    "expected.columns.names = ['Sex']\n",
    "msg = \"\"\"\n",
    "Test Statistic X^2: {}\\np-value: {}\\nDegrees of Freedom: {}\n",
    "==================================================\n",
    "\\n\\t\\tExpected table\"\"\"\n",
    "print( msg.format( chi2, p, ddof) )\n",
    "display(expected)"
   ]
  },
  {
   "cell_type": "markdown",
   "metadata": {},
   "source": [
    "As expected, Chi-squared Statistics is very high, and p-value is extremely close to zero. \n",
    "\n",
    "**=>** We reject the null hypothesis at 5% significant level.\n",
    "\n",
    "**Conclusion:** <u>Based on the provided data, we are 95% confident to conclude that there is associated effect of Gender on Survival Condition. </u>"
   ]
  },
  {
   "cell_type": "markdown",
   "metadata": {},
   "source": [
    "### IV. FINAL CONCLUSION:\n",
    "\n",
    "**Based on the given data, we have very little evidence to conclude that age has any effect on survival condition. In the other way, gender and social economics class has an effect on survival condition. From the above frequency tables, we can see that people who are at lower class are more likely to die or female are more likely to survive**"
   ]
  }
 ],
 "metadata": {
  "kernelspec": {
   "display_name": "Python 2",
   "language": "python",
   "name": "python2"
  },
  "language_info": {
   "codemirror_mode": {
    "name": "ipython",
    "version": 2
   },
   "file_extension": ".py",
   "mimetype": "text/x-python",
   "name": "python",
   "nbconvert_exporter": "python",
   "pygments_lexer": "ipython2",
   "version": "2.7.11"
  }
 },
 "nbformat": 4,
 "nbformat_minor": 0
}
