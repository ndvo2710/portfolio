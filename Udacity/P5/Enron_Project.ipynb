{
 "cells": [
  {
   "cell_type": "code",
   "execution_count": 1,
   "metadata": {
    "collapsed": false
   },
   "outputs": [
    {
     "data": {
      "text/html": [
       "<script>\n",
       "code_show=true; \n",
       "function code_toggle() {\n",
       "  if (code_show) {\n",
       "    $('div.input').each(function(id) {\n",
       "      if (id == 0 || $(this).html().indexOf('hide_me') > -1) {\n",
       "        $(this).hide();\n",
       "      }\n",
       "    });\n",
       "    $('div.output_prompt').css('opacity', 0);\n",
       "  } else {\n",
       "    $('div.input').each(function(id) {\n",
       "      $(this).show();\n",
       "    });\n",
       "    $('div.output_prompt').css('opacity', 1);\n",
       "  }\n",
       "  code_show = !code_show\n",
       "} \n",
       "$( document ).ready(code_toggle);\n",
       "</script>\n",
       "<form action=\"javascript:code_toggle()\"><input style=\"opacity:100\" type=\"submit\" value=\"Click here to toggle on/off the raw code.\"></form>"
      ],
      "text/plain": [
       "<IPython.core.display.HTML object>"
      ]
     },
     "execution_count": 1,
     "metadata": {},
     "output_type": "execute_result"
    }
   ],
   "source": [
    "# This is a cell to hide code snippets from displaying\n",
    "# Any cell that contains the word \"hide_me\" will be hidden.\n",
    "\n",
    "from IPython.display import HTML\n",
    "\n",
    "hide_me = ''\n",
    "HTML('''<script>\n",
    "code_show=true; \n",
    "function code_toggle() {\n",
    "  if (code_show) {\n",
    "    $('div.input').each(function(id) {\n",
    "      if (id == 0 || $(this).html().indexOf('hide_me') > -1) {\n",
    "        $(this).hide();\n",
    "      }\n",
    "    });\n",
    "    $('div.output_prompt').css('opacity', 0);\n",
    "  } else {\n",
    "    $('div.input').each(function(id) {\n",
    "      $(this).show();\n",
    "    });\n",
    "    $('div.output_prompt').css('opacity', 1);\n",
    "  }\n",
    "  code_show = !code_show\n",
    "} \n",
    "$( document ).ready(code_toggle);\n",
    "</script>\n",
    "<form action=\"javascript:code_toggle()\"><input style=\"opacity:100\" type=\"submit\" value=\"Click here to toggle on/off the raw code.\"></form>''')"
   ]
  },
  {
   "cell_type": "markdown",
   "metadata": {},
   "source": [
    "# Enron Dataset POI Indentifier\n",
    "\n",
    "## I. Project Overview\n",
    "In 2000, Enron was one of the largest companies in the United States. By 2002, it had collapsed into bankruptcy due to widespread corporate fraud. In the resulting Federal investigation, a significant amount of typically confidential information entered into the public record, including tens of thousands of emails and detailed financial data for top executives. In this project, I will play detective, and put my new skills to use by building a person of interest (POI) identifier based on financial and email data made public as a result of the Enron scandal. To assist in my detective work, there is a combination of data with a hand-generated list of persons of interest in the fraud case, which means individuals who were indicted, reached a settlement or plea deal with the government, or testified in exchange for prosecution immunity."
   ]
  },
  {
   "cell_type": "code",
   "execution_count": 2,
   "metadata": {
    "collapsed": false
   },
   "outputs": [
    {
     "name": "stderr",
     "output_type": "stream",
     "text": [
      "/usr/local/lib/python2.7/site-packages/sklearn/cross_validation.py:44: DeprecationWarning: This module was deprecated in version 0.18 in favor of the model_selection module into which all the refactored classes and functions are moved. Also note that the interface of the new CV iterators are different from that of this module. This module will be removed in 0.20.\n",
      "  \"This module will be removed in 0.20.\", DeprecationWarning)\n"
     ]
    }
   ],
   "source": [
    "hide_me\n",
    "#!/usr/bin/python\n",
    "\n",
    "import sys\n",
    "import pickle\n",
    "import warnings\n",
    "warnings.filterwarnings(\"ignore\")\n",
    "sys.path.append(\"../tools/\")\n",
    "\n",
    "from feature_format import featureFormat, targetFeatureSplit\n",
    "from tester import dump_classifier_and_data\n",
    "from tester import test_classifier"
   ]
  },
  {
   "cell_type": "code",
   "execution_count": 3,
   "metadata": {
    "collapsed": true
   },
   "outputs": [],
   "source": [
    "### Task 1: Select what features you'll use.\n",
    "### features_list is a list of strings, each of which is a feature name.\n",
    "### The first feature must be \"poi\".\n",
    "features_list = [\"poi\", \"salary\", \"bonus_salary_ratio\", \"fraction_from_poi\", \"fraction_to_poi\", \"deferral_payments\", \"total_payments\", \\\n",
    "                     \"loan_advances\", \"bonus\", \"restricted_stock_deferred\", \"deferred_income\", \"total_stock_value\", \\\n",
    "                     \"expenses\", \"exercised_stock_options\", \"other\", \"long_term_incentive\", \"restricted_stock\", \\\n",
    "                     \"director_fees\", \"to_messages\", \"from_poi_to_this_person\", \"from_messages\", \\\n",
    "                     \"from_this_person_to_poi\", \"shared_receipt_with_poi\"] # You will need to use more features"
   ]
  },
  {
   "cell_type": "code",
   "execution_count": 4,
   "metadata": {
    "collapsed": true
   },
   "outputs": [],
   "source": [
    "hide_me\n",
    "### Load the dictionary containing the dataset\n",
    "with open(\"final_project_dataset.pkl\", \"r\") as data_file:\n",
    "    data_dict = pickle.load(data_file)"
   ]
  },
  {
   "cell_type": "markdown",
   "metadata": {
    "collapsed": false
   },
   "source": [
    "## II. Data Exploration"
   ]
  },
  {
   "cell_type": "code",
   "execution_count": 5,
   "metadata": {
    "collapsed": false
   },
   "outputs": [],
   "source": [
    "hide_me\n",
    "import pandas as pd\n",
    "import numpy as np\n",
    "df = pd.DataFrame(data_dict)\n",
    "df = df.convert_objects(convert_numeric=True)\n",
    "df = df.transpose()"
   ]
  },
  {
   "cell_type": "code",
   "execution_count": 6,
   "metadata": {
    "collapsed": false
   },
   "outputs": [
    {
     "name": "stdout",
     "output_type": "stream",
     "text": [
      " There are 146 employees in this dataset:\n",
      "['ALLEN PHILLIP K', 'BADUM JAMES P', 'BANNANTINE JAMES M', 'BAXTER JOHN C', 'BAY FRANKLIN R', 'BAZELIDES PHILIP J', 'BECK SALLY W', 'BELDEN TIMOTHY N', 'BELFER ROBERT', 'BERBERIAN DAVID', 'BERGSIEKER RICHARD P', 'BHATNAGAR SANJAY', 'BIBI PHILIPPE A', 'BLACHMAN JEREMY M', 'BLAKE JR. NORMAN P', 'BOWEN JR RAYMOND M', 'BROWN MICHAEL', 'BUCHANAN HAROLD G', 'BUTTS ROBERT H', 'BUY RICHARD B', 'CALGER CHRISTOPHER F', 'CARTER REBECCA C', 'CAUSEY RICHARD A', 'CHAN RONNIE', 'CHRISTODOULOU DIOMEDES', 'CLINE KENNETH W', 'COLWELL WESLEY', 'CORDES WILLIAM R', 'COX DAVID', 'CUMBERLAND MICHAEL S', 'DEFFNER JOSEPH M', 'DELAINEY DAVID W', 'DERRICK JR. JAMES V', 'DETMERING TIMOTHY J', 'DIETRICH JANET R', 'DIMICHELE RICHARD G', 'DODSON KEITH', 'DONAHUE JR JEFFREY M', 'DUNCAN JOHN H', 'DURAN WILLIAM D', 'ECHOLS JOHN B', 'ELLIOTT STEVEN', 'FALLON JAMES B', 'FASTOW ANDREW S', 'FITZGERALD JAY L', 'FOWLER PEGGY', 'FOY JOE', 'FREVERT MARK A', 'FUGH JOHN L', 'GAHN ROBERT S', 'GARLAND C KEVIN', 'GATHMANN WILLIAM D', 'GIBBS DANA R', 'GILLIS JOHN', 'GLISAN JR BEN F', 'GOLD JOSEPH', 'GRAMM WENDY L', 'GRAY RODNEY', 'HAEDICKE MARK E', 'HANNON KEVIN P', 'HAUG DAVID L', 'HAYES ROBERT E', 'HAYSLETT RODERICK J', 'HERMANN ROBERT J', 'HICKERSON GARY J', 'HIRKO JOSEPH', 'HORTON STANLEY C', 'HUGHES JAMES A', 'HUMPHREY GENE E', 'IZZO LAWRENCE L', 'JACKSON CHARLENE R', 'JAEDICKE ROBERT', 'KAMINSKI WINCENTY J', 'KEAN STEVEN J', 'KISHKILL JOSEPH G', 'KITCHEN LOUISE', 'KOENIG MARK E', 'KOPPER MICHAEL J', 'LAVORATO JOHN J', 'LAY KENNETH L', 'LEFF DANIEL P', 'LEMAISTRE CHARLES', 'LEWIS RICHARD', 'LINDHOLM TOD A', 'LOCKHART EUGENE E', 'LOWRY CHARLES P', 'MARTIN AMANDA K', 'MCCARTY DANNY J', 'MCCLELLAN GEORGE', 'MCCONNELL MICHAEL S', 'MCDONALD REBECCA', 'MCMAHON JEFFREY', 'MENDELSOHN JOHN', 'METTS MARK', 'MEYER JEROME J', 'MEYER ROCKFORD G', 'MORAN MICHAEL P', 'MORDAUNT KRISTINA M', 'MULLER MARK S', 'MURRAY JULIA H', 'NOLES JAMES L', 'OLSON CINDY K', 'OVERDYKE JR JERE C', 'PAI LOU L', 'PEREIRA PAULO V. FERRAZ', 'PICKERING MARK R', 'PIPER GREGORY F', 'PIRO JIM', 'POWERS WILLIAM', 'PRENTICE JAMES', 'REDMOND BRIAN L', 'REYNOLDS LAWRENCE', 'RICE KENNETH D', 'RIEKER PAULA H', 'SAVAGE FRANK', 'SCRIMSHAW MATTHEW', 'SHANKMAN JEFFREY A', 'SHAPIRO RICHARD S', 'SHARP VICTORIA T', 'SHELBY REX', 'SHERRICK JEFFREY B', 'SHERRIFF JOHN R', 'SKILLING JEFFREY K', 'STABLER FRANK', 'SULLIVAN-SHAKLOVITZ COLLEEN', 'SUNDE MARTIN', 'TAYLOR MITCHELL S', 'THE TRAVEL AGENCY IN THE PARK', 'THORN TERENCE H', 'TILNEY ELIZABETH A', 'TOTAL', 'UMANOFF ADAM S', 'URQUHART JOHN A', 'WAKEHAM JOHN', 'WALLS JR ROBERT H', 'WALTERS GARETH W', 'WASAFF GEORGE', 'WESTFAHL RICHARD K', 'WHALEY DAVID A', 'WHALLEY LAWRENCE G', 'WHITE JR THOMAS E', 'WINOKUR JR. HERBERT S', 'WODRASKA JOHN', 'WROBEL BRUCE', 'YEAGER F SCOTT', 'YEAP SOON']\n"
     ]
    }
   ],
   "source": [
    "hide_me\n",
    "print ' There are', df.index.size, 'employees in this dataset:'\n",
    "print list(df.index)"
   ]
  },
  {
   "cell_type": "code",
   "execution_count": 7,
   "metadata": {
    "collapsed": false
   },
   "outputs": [
    {
     "name": "stdout",
     "output_type": "stream",
     "text": [
      "+The number of POIs in the dataset is 18\n",
      "['BELDEN TIMOTHY N', 'BOWEN JR RAYMOND M', 'CALGER CHRISTOPHER F', 'CAUSEY RICHARD A', 'COLWELL WESLEY', 'DELAINEY DAVID W', 'FASTOW ANDREW S', 'GLISAN JR BEN F', 'HANNON KEVIN P', 'HIRKO JOSEPH', 'KOENIG MARK E', 'KOPPER MICHAEL J', 'LAY KENNETH L', 'RICE KENNETH D', 'RIEKER PAULA H', 'SHELBY REX', 'SKILLING JEFFREY K', 'YEAGER F SCOTT'] \n",
      "\n",
      "+The maximum number of features for each employee is 21\n",
      "LIST OF FEATURES OVERVIEW:\n",
      "['bonus', 'deferral_payments', 'deferred_income', 'director_fees', 'email_address', 'exercised_stock_options', 'expenses', 'from_messages', 'from_poi_to_this_person', 'from_this_person_to_poi', 'loan_advances', 'long_term_incentive', 'other', 'poi', 'restricted_stock', 'restricted_stock_deferred', 'salary', 'shared_receipt_with_poi', 'to_messages', 'total_payments', 'total_stock_value']\n"
     ]
    }
   ],
   "source": [
    "hide_me\n",
    "print '+The number of POIs in the dataset is', df[df.poi == 1].index.size\n",
    "print list(df[df.poi == 1].index), '\\n'\n",
    "print '+The maximum number of features for each employee is',df.columns.values.size\n",
    "print 'LIST OF FEATURES OVERVIEW:'\n",
    "print list(df.columns.values)"
   ]
  },
  {
   "cell_type": "markdown",
   "metadata": {},
   "source": [
    "We can see that we have a total of 146 data points from which we can gain information and insight about the Enron case. Each person has a maximum of 21 features with some of them though having NaN as a value in some features. Lastly the number of POIs in the dataset is 18 however the number of total POIs identified is 35 which are documented in a separate text file. That means what we have not a lot of data to work with and that makes our work on the POI identifier harder."
   ]
  },
  {
   "cell_type": "markdown",
   "metadata": {},
   "source": [
    "- **Data Overview (First 5 data points):**"
   ]
  },
  {
   "cell_type": "code",
   "execution_count": 8,
   "metadata": {
    "collapsed": false
   },
   "outputs": [
    {
     "data": {
      "text/html": [
       "<div>\n",
       "<table border=\"1\" class=\"dataframe\">\n",
       "  <thead>\n",
       "    <tr style=\"text-align: right;\">\n",
       "      <th></th>\n",
       "      <th>bonus</th>\n",
       "      <th>deferral_payments</th>\n",
       "      <th>deferred_income</th>\n",
       "      <th>director_fees</th>\n",
       "      <th>email_address</th>\n",
       "      <th>exercised_stock_options</th>\n",
       "      <th>expenses</th>\n",
       "      <th>from_messages</th>\n",
       "      <th>from_poi_to_this_person</th>\n",
       "      <th>from_this_person_to_poi</th>\n",
       "      <th>...</th>\n",
       "      <th>long_term_incentive</th>\n",
       "      <th>other</th>\n",
       "      <th>poi</th>\n",
       "      <th>restricted_stock</th>\n",
       "      <th>restricted_stock_deferred</th>\n",
       "      <th>salary</th>\n",
       "      <th>shared_receipt_with_poi</th>\n",
       "      <th>to_messages</th>\n",
       "      <th>total_payments</th>\n",
       "      <th>total_stock_value</th>\n",
       "    </tr>\n",
       "  </thead>\n",
       "  <tbody>\n",
       "    <tr>\n",
       "      <th>ALLEN PHILLIP K</th>\n",
       "      <td>4175000.0</td>\n",
       "      <td>2869717.0</td>\n",
       "      <td>-3081055.0</td>\n",
       "      <td>NaN</td>\n",
       "      <td>NaN</td>\n",
       "      <td>1729541.0</td>\n",
       "      <td>13868.0</td>\n",
       "      <td>2195.0</td>\n",
       "      <td>47.0</td>\n",
       "      <td>65.0</td>\n",
       "      <td>...</td>\n",
       "      <td>304805.0</td>\n",
       "      <td>152.0</td>\n",
       "      <td>0.0</td>\n",
       "      <td>126027.0</td>\n",
       "      <td>-126027.0</td>\n",
       "      <td>201955.0</td>\n",
       "      <td>1407.0</td>\n",
       "      <td>2902.0</td>\n",
       "      <td>4484442.0</td>\n",
       "      <td>1729541.0</td>\n",
       "    </tr>\n",
       "    <tr>\n",
       "      <th>BADUM JAMES P</th>\n",
       "      <td>NaN</td>\n",
       "      <td>178980.0</td>\n",
       "      <td>NaN</td>\n",
       "      <td>NaN</td>\n",
       "      <td>NaN</td>\n",
       "      <td>257817.0</td>\n",
       "      <td>3486.0</td>\n",
       "      <td>NaN</td>\n",
       "      <td>NaN</td>\n",
       "      <td>NaN</td>\n",
       "      <td>...</td>\n",
       "      <td>NaN</td>\n",
       "      <td>NaN</td>\n",
       "      <td>0.0</td>\n",
       "      <td>NaN</td>\n",
       "      <td>NaN</td>\n",
       "      <td>NaN</td>\n",
       "      <td>NaN</td>\n",
       "      <td>NaN</td>\n",
       "      <td>182466.0</td>\n",
       "      <td>257817.0</td>\n",
       "    </tr>\n",
       "    <tr>\n",
       "      <th>BANNANTINE JAMES M</th>\n",
       "      <td>NaN</td>\n",
       "      <td>NaN</td>\n",
       "      <td>-5104.0</td>\n",
       "      <td>NaN</td>\n",
       "      <td>NaN</td>\n",
       "      <td>4046157.0</td>\n",
       "      <td>56301.0</td>\n",
       "      <td>29.0</td>\n",
       "      <td>39.0</td>\n",
       "      <td>0.0</td>\n",
       "      <td>...</td>\n",
       "      <td>NaN</td>\n",
       "      <td>864523.0</td>\n",
       "      <td>0.0</td>\n",
       "      <td>1757552.0</td>\n",
       "      <td>-560222.0</td>\n",
       "      <td>477.0</td>\n",
       "      <td>465.0</td>\n",
       "      <td>566.0</td>\n",
       "      <td>916197.0</td>\n",
       "      <td>5243487.0</td>\n",
       "    </tr>\n",
       "    <tr>\n",
       "      <th>BAXTER JOHN C</th>\n",
       "      <td>1200000.0</td>\n",
       "      <td>1295738.0</td>\n",
       "      <td>-1386055.0</td>\n",
       "      <td>NaN</td>\n",
       "      <td>NaN</td>\n",
       "      <td>6680544.0</td>\n",
       "      <td>11200.0</td>\n",
       "      <td>NaN</td>\n",
       "      <td>NaN</td>\n",
       "      <td>NaN</td>\n",
       "      <td>...</td>\n",
       "      <td>1586055.0</td>\n",
       "      <td>2660303.0</td>\n",
       "      <td>0.0</td>\n",
       "      <td>3942714.0</td>\n",
       "      <td>NaN</td>\n",
       "      <td>267102.0</td>\n",
       "      <td>NaN</td>\n",
       "      <td>NaN</td>\n",
       "      <td>5634343.0</td>\n",
       "      <td>10623258.0</td>\n",
       "    </tr>\n",
       "    <tr>\n",
       "      <th>BAY FRANKLIN R</th>\n",
       "      <td>400000.0</td>\n",
       "      <td>260455.0</td>\n",
       "      <td>-201641.0</td>\n",
       "      <td>NaN</td>\n",
       "      <td>NaN</td>\n",
       "      <td>NaN</td>\n",
       "      <td>129142.0</td>\n",
       "      <td>NaN</td>\n",
       "      <td>NaN</td>\n",
       "      <td>NaN</td>\n",
       "      <td>...</td>\n",
       "      <td>NaN</td>\n",
       "      <td>69.0</td>\n",
       "      <td>0.0</td>\n",
       "      <td>145796.0</td>\n",
       "      <td>-82782.0</td>\n",
       "      <td>239671.0</td>\n",
       "      <td>NaN</td>\n",
       "      <td>NaN</td>\n",
       "      <td>827696.0</td>\n",
       "      <td>63014.0</td>\n",
       "    </tr>\n",
       "  </tbody>\n",
       "</table>\n",
       "<p>5 rows × 21 columns</p>\n",
       "</div>"
      ],
      "text/plain": [
       "                        bonus  deferral_payments  deferred_income  \\\n",
       "ALLEN PHILLIP K     4175000.0          2869717.0       -3081055.0   \n",
       "BADUM JAMES P             NaN           178980.0              NaN   \n",
       "BANNANTINE JAMES M        NaN                NaN          -5104.0   \n",
       "BAXTER JOHN C       1200000.0          1295738.0       -1386055.0   \n",
       "BAY FRANKLIN R       400000.0           260455.0        -201641.0   \n",
       "\n",
       "                    director_fees  email_address  exercised_stock_options  \\\n",
       "ALLEN PHILLIP K               NaN            NaN                1729541.0   \n",
       "BADUM JAMES P                 NaN            NaN                 257817.0   \n",
       "BANNANTINE JAMES M            NaN            NaN                4046157.0   \n",
       "BAXTER JOHN C                 NaN            NaN                6680544.0   \n",
       "BAY FRANKLIN R                NaN            NaN                      NaN   \n",
       "\n",
       "                    expenses  from_messages  from_poi_to_this_person  \\\n",
       "ALLEN PHILLIP K      13868.0         2195.0                     47.0   \n",
       "BADUM JAMES P         3486.0            NaN                      NaN   \n",
       "BANNANTINE JAMES M   56301.0           29.0                     39.0   \n",
       "BAXTER JOHN C        11200.0            NaN                      NaN   \n",
       "BAY FRANKLIN R      129142.0            NaN                      NaN   \n",
       "\n",
       "                    from_this_person_to_poi        ...          \\\n",
       "ALLEN PHILLIP K                        65.0        ...           \n",
       "BADUM JAMES P                           NaN        ...           \n",
       "BANNANTINE JAMES M                      0.0        ...           \n",
       "BAXTER JOHN C                           NaN        ...           \n",
       "BAY FRANKLIN R                          NaN        ...           \n",
       "\n",
       "                    long_term_incentive      other  poi  restricted_stock  \\\n",
       "ALLEN PHILLIP K                304805.0      152.0  0.0          126027.0   \n",
       "BADUM JAMES P                       NaN        NaN  0.0               NaN   \n",
       "BANNANTINE JAMES M                  NaN   864523.0  0.0         1757552.0   \n",
       "BAXTER JOHN C                 1586055.0  2660303.0  0.0         3942714.0   \n",
       "BAY FRANKLIN R                      NaN       69.0  0.0          145796.0   \n",
       "\n",
       "                    restricted_stock_deferred    salary  \\\n",
       "ALLEN PHILLIP K                     -126027.0  201955.0   \n",
       "BADUM JAMES P                             NaN       NaN   \n",
       "BANNANTINE JAMES M                  -560222.0     477.0   \n",
       "BAXTER JOHN C                             NaN  267102.0   \n",
       "BAY FRANKLIN R                       -82782.0  239671.0   \n",
       "\n",
       "                    shared_receipt_with_poi  to_messages  total_payments  \\\n",
       "ALLEN PHILLIP K                      1407.0       2902.0       4484442.0   \n",
       "BADUM JAMES P                           NaN          NaN        182466.0   \n",
       "BANNANTINE JAMES M                    465.0        566.0        916197.0   \n",
       "BAXTER JOHN C                           NaN          NaN       5634343.0   \n",
       "BAY FRANKLIN R                          NaN          NaN        827696.0   \n",
       "\n",
       "                    total_stock_value  \n",
       "ALLEN PHILLIP K             1729541.0  \n",
       "BADUM JAMES P                257817.0  \n",
       "BANNANTINE JAMES M          5243487.0  \n",
       "BAXTER JOHN C              10623258.0  \n",
       "BAY FRANKLIN R                63014.0  \n",
       "\n",
       "[5 rows x 21 columns]"
      ]
     },
     "execution_count": 8,
     "metadata": {},
     "output_type": "execute_result"
    }
   ],
   "source": [
    "hide_me\n",
    "df.head(5)"
   ]
  },
  {
   "cell_type": "markdown",
   "metadata": {},
   "source": [
    "- Some statistics of features are grouped by **`poi`**:"
   ]
  },
  {
   "cell_type": "code",
   "execution_count": 9,
   "metadata": {
    "collapsed": false
   },
   "outputs": [
    {
     "data": {
      "text/html": [
       "<div>\n",
       "<table border=\"1\" class=\"dataframe\">\n",
       "  <thead>\n",
       "    <tr>\n",
       "      <th></th>\n",
       "      <th>bonus</th>\n",
       "      <th>deferral_payments</th>\n",
       "      <th>deferred_income</th>\n",
       "      <th>director_fees</th>\n",
       "      <th>email_address</th>\n",
       "      <th>exercised_stock_options</th>\n",
       "      <th>expenses</th>\n",
       "      <th>from_messages</th>\n",
       "      <th>from_poi_to_this_person</th>\n",
       "      <th>from_this_person_to_poi</th>\n",
       "      <th>loan_advances</th>\n",
       "      <th>long_term_incentive</th>\n",
       "      <th>other</th>\n",
       "      <th>restricted_stock</th>\n",
       "      <th>restricted_stock_deferred</th>\n",
       "      <th>salary</th>\n",
       "      <th>shared_receipt_with_poi</th>\n",
       "      <th>to_messages</th>\n",
       "      <th>total_payments</th>\n",
       "      <th>total_stock_value</th>\n",
       "    </tr>\n",
       "    <tr>\n",
       "      <th></th>\n",
       "      <th>mean</th>\n",
       "      <th>mean</th>\n",
       "      <th>mean</th>\n",
       "      <th>mean</th>\n",
       "      <th>mean</th>\n",
       "      <th>mean</th>\n",
       "      <th>mean</th>\n",
       "      <th>mean</th>\n",
       "      <th>mean</th>\n",
       "      <th>mean</th>\n",
       "      <th>mean</th>\n",
       "      <th>mean</th>\n",
       "      <th>mean</th>\n",
       "      <th>mean</th>\n",
       "      <th>mean</th>\n",
       "      <th>mean</th>\n",
       "      <th>mean</th>\n",
       "      <th>mean</th>\n",
       "      <th>mean</th>\n",
       "      <th>mean</th>\n",
       "    </tr>\n",
       "    <tr>\n",
       "      <th>poi</th>\n",
       "      <th></th>\n",
       "      <th></th>\n",
       "      <th></th>\n",
       "      <th></th>\n",
       "      <th></th>\n",
       "      <th></th>\n",
       "      <th></th>\n",
       "      <th></th>\n",
       "      <th></th>\n",
       "      <th></th>\n",
       "      <th></th>\n",
       "      <th></th>\n",
       "      <th></th>\n",
       "      <th></th>\n",
       "      <th></th>\n",
       "      <th></th>\n",
       "      <th></th>\n",
       "      <th></th>\n",
       "      <th></th>\n",
       "      <th></th>\n",
       "    </tr>\n",
       "  </thead>\n",
       "  <tbody>\n",
       "    <tr>\n",
       "      <th>0.0</th>\n",
       "      <td>2.446776e+06</td>\n",
       "      <td>1.807789e+06</td>\n",
       "      <td>-1.170917e+06</td>\n",
       "      <td>166804.882353</td>\n",
       "      <td>NaN</td>\n",
       "      <td>5.390155e+06</td>\n",
       "      <td>120149.584416</td>\n",
       "      <td>668.763889</td>\n",
       "      <td>58.500000</td>\n",
       "      <td>36.277778</td>\n",
       "      <td>28775000.0</td>\n",
       "      <td>1.529361e+06</td>\n",
       "      <td>946921.186667</td>\n",
       "      <td>2.322312e+06</td>\n",
       "      <td>166410.555556</td>\n",
       "      <td>601152.500000</td>\n",
       "      <td>1058.527778</td>\n",
       "      <td>2007.111111</td>\n",
       "      <td>4.605105e+06</td>\n",
       "      <td>6.375339e+06</td>\n",
       "    </tr>\n",
       "    <tr>\n",
       "      <th>1.0</th>\n",
       "      <td>2.075000e+06</td>\n",
       "      <td>5.198942e+05</td>\n",
       "      <td>-1.035313e+06</td>\n",
       "      <td>NaN</td>\n",
       "      <td>NaN</td>\n",
       "      <td>1.046379e+07</td>\n",
       "      <td>59873.833333</td>\n",
       "      <td>300.357143</td>\n",
       "      <td>97.785714</td>\n",
       "      <td>66.714286</td>\n",
       "      <td>81525000.0</td>\n",
       "      <td>1.204862e+06</td>\n",
       "      <td>802997.388889</td>\n",
       "      <td>2.318621e+06</td>\n",
       "      <td>NaN</td>\n",
       "      <td>383444.882353</td>\n",
       "      <td>1783.000000</td>\n",
       "      <td>2417.142857</td>\n",
       "      <td>7.913590e+06</td>\n",
       "      <td>9.165671e+06</td>\n",
       "    </tr>\n",
       "  </tbody>\n",
       "</table>\n",
       "</div>"
      ],
      "text/plain": [
       "            bonus deferral_payments deferred_income  director_fees  \\\n",
       "             mean              mean            mean           mean   \n",
       "poi                                                                  \n",
       "0.0  2.446776e+06      1.807789e+06   -1.170917e+06  166804.882353   \n",
       "1.0  2.075000e+06      5.198942e+05   -1.035313e+06            NaN   \n",
       "\n",
       "    email_address exercised_stock_options       expenses from_messages  \\\n",
       "             mean                    mean           mean          mean   \n",
       "poi                                                                      \n",
       "0.0           NaN            5.390155e+06  120149.584416    668.763889   \n",
       "1.0           NaN            1.046379e+07   59873.833333    300.357143   \n",
       "\n",
       "    from_poi_to_this_person from_this_person_to_poi loan_advances  \\\n",
       "                       mean                    mean          mean   \n",
       "poi                                                                 \n",
       "0.0               58.500000               36.277778    28775000.0   \n",
       "1.0               97.785714               66.714286    81525000.0   \n",
       "\n",
       "    long_term_incentive          other restricted_stock  \\\n",
       "                   mean           mean             mean   \n",
       "poi                                                       \n",
       "0.0        1.529361e+06  946921.186667     2.322312e+06   \n",
       "1.0        1.204862e+06  802997.388889     2.318621e+06   \n",
       "\n",
       "    restricted_stock_deferred         salary shared_receipt_with_poi  \\\n",
       "                         mean           mean                    mean   \n",
       "poi                                                                    \n",
       "0.0             166410.555556  601152.500000             1058.527778   \n",
       "1.0                       NaN  383444.882353             1783.000000   \n",
       "\n",
       "     to_messages total_payments total_stock_value  \n",
       "            mean           mean              mean  \n",
       "poi                                                \n",
       "0.0  2007.111111   4.605105e+06      6.375339e+06  \n",
       "1.0  2417.142857   7.913590e+06      9.165671e+06  "
      ]
     },
     "execution_count": 9,
     "metadata": {},
     "output_type": "execute_result"
    }
   ],
   "source": [
    "hide_me\n",
    "bypoi = df.groupby(['poi'])\n",
    "bypoi.agg([np.mean])"
   ]
  },
  {
   "cell_type": "markdown",
   "metadata": {},
   "source": [
    "In terms of money-related features, we can see that mean values are higher for person-of-interest in most of the cases.\n",
    "\n",
    "* Features Statistics:"
   ]
  },
  {
   "cell_type": "code",
   "execution_count": 10,
   "metadata": {
    "collapsed": false
   },
   "outputs": [
    {
     "data": {
      "text/html": [
       "<div>\n",
       "<table border=\"1\" class=\"dataframe\">\n",
       "  <thead>\n",
       "    <tr style=\"text-align: right;\">\n",
       "      <th></th>\n",
       "      <th>count</th>\n",
       "      <th>mean</th>\n",
       "      <th>std</th>\n",
       "      <th>min</th>\n",
       "      <th>25%</th>\n",
       "      <th>50%</th>\n",
       "      <th>75%</th>\n",
       "      <th>max</th>\n",
       "    </tr>\n",
       "  </thead>\n",
       "  <tbody>\n",
       "    <tr>\n",
       "      <th>bonus</th>\n",
       "      <td>82.0</td>\n",
       "      <td>2.374235e+06</td>\n",
       "      <td>1.071333e+07</td>\n",
       "      <td>70000.0</td>\n",
       "      <td>431250.00</td>\n",
       "      <td>769375.0</td>\n",
       "      <td>1200000.00</td>\n",
       "      <td>97343619.0</td>\n",
       "    </tr>\n",
       "    <tr>\n",
       "      <th>deferral_payments</th>\n",
       "      <td>39.0</td>\n",
       "      <td>1.642674e+06</td>\n",
       "      <td>5.161930e+06</td>\n",
       "      <td>-102500.0</td>\n",
       "      <td>81573.00</td>\n",
       "      <td>227449.0</td>\n",
       "      <td>1002671.50</td>\n",
       "      <td>32083396.0</td>\n",
       "    </tr>\n",
       "    <tr>\n",
       "      <th>deferred_income</th>\n",
       "      <td>49.0</td>\n",
       "      <td>-1.140475e+06</td>\n",
       "      <td>4.025406e+06</td>\n",
       "      <td>-27992891.0</td>\n",
       "      <td>-694862.00</td>\n",
       "      <td>-159792.0</td>\n",
       "      <td>-38346.00</td>\n",
       "      <td>-833.0</td>\n",
       "    </tr>\n",
       "    <tr>\n",
       "      <th>director_fees</th>\n",
       "      <td>17.0</td>\n",
       "      <td>1.668049e+05</td>\n",
       "      <td>3.198914e+05</td>\n",
       "      <td>3285.0</td>\n",
       "      <td>98784.00</td>\n",
       "      <td>108579.0</td>\n",
       "      <td>113784.00</td>\n",
       "      <td>1398517.0</td>\n",
       "    </tr>\n",
       "    <tr>\n",
       "      <th>email_address</th>\n",
       "      <td>0.0</td>\n",
       "      <td>NaN</td>\n",
       "      <td>NaN</td>\n",
       "      <td>NaN</td>\n",
       "      <td>NaN</td>\n",
       "      <td>NaN</td>\n",
       "      <td>NaN</td>\n",
       "      <td>NaN</td>\n",
       "    </tr>\n",
       "    <tr>\n",
       "      <th>exercised_stock_options</th>\n",
       "      <td>102.0</td>\n",
       "      <td>5.987054e+06</td>\n",
       "      <td>3.106201e+07</td>\n",
       "      <td>3285.0</td>\n",
       "      <td>527886.25</td>\n",
       "      <td>1310813.5</td>\n",
       "      <td>2547724.00</td>\n",
       "      <td>311764000.0</td>\n",
       "    </tr>\n",
       "    <tr>\n",
       "      <th>expenses</th>\n",
       "      <td>95.0</td>\n",
       "      <td>1.087289e+05</td>\n",
       "      <td>5.335348e+05</td>\n",
       "      <td>148.0</td>\n",
       "      <td>22614.00</td>\n",
       "      <td>46950.0</td>\n",
       "      <td>79952.50</td>\n",
       "      <td>5235198.0</td>\n",
       "    </tr>\n",
       "    <tr>\n",
       "      <th>from_messages</th>\n",
       "      <td>86.0</td>\n",
       "      <td>6.087907e+02</td>\n",
       "      <td>1.841034e+03</td>\n",
       "      <td>12.0</td>\n",
       "      <td>22.75</td>\n",
       "      <td>41.0</td>\n",
       "      <td>145.50</td>\n",
       "      <td>14368.0</td>\n",
       "    </tr>\n",
       "    <tr>\n",
       "      <th>from_poi_to_this_person</th>\n",
       "      <td>86.0</td>\n",
       "      <td>6.489535e+01</td>\n",
       "      <td>8.697924e+01</td>\n",
       "      <td>0.0</td>\n",
       "      <td>10.00</td>\n",
       "      <td>35.0</td>\n",
       "      <td>72.25</td>\n",
       "      <td>528.0</td>\n",
       "    </tr>\n",
       "    <tr>\n",
       "      <th>from_this_person_to_poi</th>\n",
       "      <td>86.0</td>\n",
       "      <td>4.123256e+01</td>\n",
       "      <td>1.000731e+02</td>\n",
       "      <td>0.0</td>\n",
       "      <td>1.00</td>\n",
       "      <td>8.0</td>\n",
       "      <td>24.75</td>\n",
       "      <td>609.0</td>\n",
       "    </tr>\n",
       "    <tr>\n",
       "      <th>loan_advances</th>\n",
       "      <td>4.0</td>\n",
       "      <td>4.196250e+07</td>\n",
       "      <td>4.708321e+07</td>\n",
       "      <td>400000.0</td>\n",
       "      <td>1600000.00</td>\n",
       "      <td>41762500.0</td>\n",
       "      <td>82125000.00</td>\n",
       "      <td>83925000.0</td>\n",
       "    </tr>\n",
       "    <tr>\n",
       "      <th>long_term_incentive</th>\n",
       "      <td>66.0</td>\n",
       "      <td>1.470361e+06</td>\n",
       "      <td>5.942759e+06</td>\n",
       "      <td>69223.0</td>\n",
       "      <td>281250.00</td>\n",
       "      <td>442035.0</td>\n",
       "      <td>938672.00</td>\n",
       "      <td>48521928.0</td>\n",
       "    </tr>\n",
       "    <tr>\n",
       "      <th>other</th>\n",
       "      <td>93.0</td>\n",
       "      <td>9.190650e+05</td>\n",
       "      <td>4.589253e+06</td>\n",
       "      <td>2.0</td>\n",
       "      <td>1215.00</td>\n",
       "      <td>52382.0</td>\n",
       "      <td>362096.00</td>\n",
       "      <td>42667589.0</td>\n",
       "    </tr>\n",
       "    <tr>\n",
       "      <th>poi</th>\n",
       "      <td>146.0</td>\n",
       "      <td>1.232877e-01</td>\n",
       "      <td>3.298989e-01</td>\n",
       "      <td>0.0</td>\n",
       "      <td>0.00</td>\n",
       "      <td>0.0</td>\n",
       "      <td>0.00</td>\n",
       "      <td>1.0</td>\n",
       "    </tr>\n",
       "    <tr>\n",
       "      <th>restricted_stock</th>\n",
       "      <td>110.0</td>\n",
       "      <td>2.321741e+06</td>\n",
       "      <td>1.251828e+07</td>\n",
       "      <td>-2604490.0</td>\n",
       "      <td>254018.00</td>\n",
       "      <td>451740.0</td>\n",
       "      <td>1002369.75</td>\n",
       "      <td>130322299.0</td>\n",
       "    </tr>\n",
       "    <tr>\n",
       "      <th>restricted_stock_deferred</th>\n",
       "      <td>18.0</td>\n",
       "      <td>1.664106e+05</td>\n",
       "      <td>4.201494e+06</td>\n",
       "      <td>-7576788.0</td>\n",
       "      <td>-389621.75</td>\n",
       "      <td>-146975.0</td>\n",
       "      <td>-75009.75</td>\n",
       "      <td>15456290.0</td>\n",
       "    </tr>\n",
       "    <tr>\n",
       "      <th>salary</th>\n",
       "      <td>95.0</td>\n",
       "      <td>5.621943e+05</td>\n",
       "      <td>2.716369e+06</td>\n",
       "      <td>477.0</td>\n",
       "      <td>211816.00</td>\n",
       "      <td>259996.0</td>\n",
       "      <td>312117.00</td>\n",
       "      <td>26704229.0</td>\n",
       "    </tr>\n",
       "    <tr>\n",
       "      <th>shared_receipt_with_poi</th>\n",
       "      <td>86.0</td>\n",
       "      <td>1.176465e+03</td>\n",
       "      <td>1.178318e+03</td>\n",
       "      <td>2.0</td>\n",
       "      <td>249.75</td>\n",
       "      <td>740.5</td>\n",
       "      <td>1888.25</td>\n",
       "      <td>5521.0</td>\n",
       "    </tr>\n",
       "    <tr>\n",
       "      <th>to_messages</th>\n",
       "      <td>86.0</td>\n",
       "      <td>2.073860e+03</td>\n",
       "      <td>2.582701e+03</td>\n",
       "      <td>57.0</td>\n",
       "      <td>541.25</td>\n",
       "      <td>1211.0</td>\n",
       "      <td>2634.75</td>\n",
       "      <td>15149.0</td>\n",
       "    </tr>\n",
       "    <tr>\n",
       "      <th>total_payments</th>\n",
       "      <td>125.0</td>\n",
       "      <td>5.081526e+06</td>\n",
       "      <td>2.906172e+07</td>\n",
       "      <td>148.0</td>\n",
       "      <td>394475.00</td>\n",
       "      <td>1101393.0</td>\n",
       "      <td>2093263.00</td>\n",
       "      <td>309886585.0</td>\n",
       "    </tr>\n",
       "    <tr>\n",
       "      <th>total_stock_value</th>\n",
       "      <td>126.0</td>\n",
       "      <td>6.773957e+06</td>\n",
       "      <td>3.895777e+07</td>\n",
       "      <td>-44093.0</td>\n",
       "      <td>494510.25</td>\n",
       "      <td>1102872.5</td>\n",
       "      <td>2949846.75</td>\n",
       "      <td>434509511.0</td>\n",
       "    </tr>\n",
       "  </tbody>\n",
       "</table>\n",
       "</div>"
      ],
      "text/plain": [
       "                           count          mean           std         min  \\\n",
       "bonus                       82.0  2.374235e+06  1.071333e+07     70000.0   \n",
       "deferral_payments           39.0  1.642674e+06  5.161930e+06   -102500.0   \n",
       "deferred_income             49.0 -1.140475e+06  4.025406e+06 -27992891.0   \n",
       "director_fees               17.0  1.668049e+05  3.198914e+05      3285.0   \n",
       "email_address                0.0           NaN           NaN         NaN   \n",
       "exercised_stock_options    102.0  5.987054e+06  3.106201e+07      3285.0   \n",
       "expenses                    95.0  1.087289e+05  5.335348e+05       148.0   \n",
       "from_messages               86.0  6.087907e+02  1.841034e+03        12.0   \n",
       "from_poi_to_this_person     86.0  6.489535e+01  8.697924e+01         0.0   \n",
       "from_this_person_to_poi     86.0  4.123256e+01  1.000731e+02         0.0   \n",
       "loan_advances                4.0  4.196250e+07  4.708321e+07    400000.0   \n",
       "long_term_incentive         66.0  1.470361e+06  5.942759e+06     69223.0   \n",
       "other                       93.0  9.190650e+05  4.589253e+06         2.0   \n",
       "poi                        146.0  1.232877e-01  3.298989e-01         0.0   \n",
       "restricted_stock           110.0  2.321741e+06  1.251828e+07  -2604490.0   \n",
       "restricted_stock_deferred   18.0  1.664106e+05  4.201494e+06  -7576788.0   \n",
       "salary                      95.0  5.621943e+05  2.716369e+06       477.0   \n",
       "shared_receipt_with_poi     86.0  1.176465e+03  1.178318e+03         2.0   \n",
       "to_messages                 86.0  2.073860e+03  2.582701e+03        57.0   \n",
       "total_payments             125.0  5.081526e+06  2.906172e+07       148.0   \n",
       "total_stock_value          126.0  6.773957e+06  3.895777e+07    -44093.0   \n",
       "\n",
       "                                  25%         50%          75%          max  \n",
       "bonus                       431250.00    769375.0   1200000.00   97343619.0  \n",
       "deferral_payments            81573.00    227449.0   1002671.50   32083396.0  \n",
       "deferred_income            -694862.00   -159792.0    -38346.00       -833.0  \n",
       "director_fees                98784.00    108579.0    113784.00    1398517.0  \n",
       "email_address                     NaN         NaN          NaN          NaN  \n",
       "exercised_stock_options     527886.25   1310813.5   2547724.00  311764000.0  \n",
       "expenses                     22614.00     46950.0     79952.50    5235198.0  \n",
       "from_messages                   22.75        41.0       145.50      14368.0  \n",
       "from_poi_to_this_person         10.00        35.0        72.25        528.0  \n",
       "from_this_person_to_poi          1.00         8.0        24.75        609.0  \n",
       "loan_advances              1600000.00  41762500.0  82125000.00   83925000.0  \n",
       "long_term_incentive         281250.00    442035.0    938672.00   48521928.0  \n",
       "other                         1215.00     52382.0    362096.00   42667589.0  \n",
       "poi                              0.00         0.0         0.00          1.0  \n",
       "restricted_stock            254018.00    451740.0   1002369.75  130322299.0  \n",
       "restricted_stock_deferred  -389621.75   -146975.0    -75009.75   15456290.0  \n",
       "salary                      211816.00    259996.0    312117.00   26704229.0  \n",
       "shared_receipt_with_poi        249.75       740.5      1888.25       5521.0  \n",
       "to_messages                    541.25      1211.0      2634.75      15149.0  \n",
       "total_payments              394475.00   1101393.0   2093263.00  309886585.0  \n",
       "total_stock_value           494510.25   1102872.5   2949846.75  434509511.0  "
      ]
     },
     "execution_count": 10,
     "metadata": {},
     "output_type": "execute_result"
    }
   ],
   "source": [
    "hide_me\n",
    "df.describe().transpose()"
   ]
  },
  {
   "cell_type": "markdown",
   "metadata": {},
   "source": [
    "Some features have the problem of inadequate data such as `loan_advances`, `director_fees` and `restricted_stock_deferred`. Also, we notice that count of `email_address` feature is zero. It happens because `email_address` features is string type. It might not be necessary for prediction models. I think we can drop this feature from our dataset."
   ]
  },
  {
   "cell_type": "code",
   "execution_count": 11,
   "metadata": {
    "collapsed": false
   },
   "outputs": [],
   "source": [
    "for employee in data_dict:\n",
    "    data_dict[employee].pop('email_address')"
   ]
  },
  {
   "cell_type": "code",
   "execution_count": 12,
   "metadata": {
    "collapsed": false
   },
   "outputs": [],
   "source": [
    "hide_me\n",
    "df = pd.DataFrame(data_dict)\n",
    "df = df.convert_objects(convert_numeric=True)\n",
    "df = df.transpose()"
   ]
  },
  {
   "cell_type": "code",
   "execution_count": 13,
   "metadata": {
    "collapsed": false
   },
   "outputs": [],
   "source": [
    "hide_me\n",
    "# Import Library for Plotting\n",
    "import matplotlib.pyplot as plt\n",
    "import seaborn as sns\n",
    "%matplotlib inline\n",
    "\n",
    "# Functions to remove underscore from label of a plot\n",
    "def parse_labels(label):\n",
    "    words = label.split(\"_\")\n",
    "    parsed_label = \" \".join(words).capitalize()\n",
    "    return parsed_label"
   ]
  },
  {
   "cell_type": "markdown",
   "metadata": {},
   "source": [
    "### Dealing with Outliers:\n",
    "\n",
    "One way to find outliers is by visualizing the data. Here are the histograms of all features"
   ]
  },
  {
   "cell_type": "code",
   "execution_count": 14,
   "metadata": {
    "collapsed": false
   },
   "outputs": [
    {
     "data": {
      "image/png": "[encoded data removed]",
      "text/plain": [
       "<matplotlib.figure.Figure at 0x10c075350>"
      ]
     },
     "metadata": {},
     "output_type": "display_data"
    }
   ],
   "source": [
    "hide_me\n",
    "plt.figure(figsize=(17, 30))\n",
    "for i in range(0, len(df.columns.values)):\n",
    "    plt.subplot(7,3,i+1)\n",
    "    plt.subplots_adjust(hspace=.3) \n",
    "    df[df.columns.values[i]].hist()\n",
    "    plt.xlabel(parse_labels(df.columns.values[i]))"
   ]
  },
  {
   "cell_type": "markdown",
   "metadata": {},
   "source": [
    "As we can see that there are a few of suspicious data points that has much higher value than the rests in most of the above histograms. I believe they come from the same data points.\n",
    "In order to check whether what I believe is right or wrong, I created a function **`visualize_pair_features`** to draw a scatterplot to visualize pairs of features"
   ]
  },
  {
   "cell_type": "code",
   "execution_count": 15,
   "metadata": {
    "collapsed": true
   },
   "outputs": [],
   "source": [
    "def visualise_pair_features(feature1, feature2, fig_name):\n",
    "    plt.scatter(x = df[feature1], y = df[feature2], color = \"#FF6666\")\n",
    "    plt.title(fig_name)\n",
    "    plt.xlabel(parse_labels(feature1))\n",
    "    plt.ylabel(parse_labels(feature2))"
   ]
  },
  {
   "cell_type": "markdown",
   "metadata": {},
   "source": [
    "It takes a lot of time to visualize each pair among 21 features. We only need to check with a pair of feature first, then clean the data if we have to. By using the function on the features of \"salary\" and \"bonus\" an outlier was spotted. "
   ]
  },
  {
   "cell_type": "code",
   "execution_count": 16,
   "metadata": {
    "collapsed": false
   },
   "outputs": [
    {
     "data": {
      "image/png": "[encoded data removed]",
      "text/plain": [
       "<matplotlib.figure.Figure at 0x10c075310>"
      ]
     },
     "metadata": {},
     "output_type": "display_data"
    }
   ],
   "source": [
    "hide_me\n",
    "visualise_pair_features(\"salary\", \"bonus\", \"Salary vs. Bonus with Outliers\")"
   ]
  },
  {
   "cell_type": "markdown",
   "metadata": {},
   "source": [
    "The outlier of salary and bonus is clearly originated from a shared single data point. Let's find out what it is:"
   ]
  },
  {
   "cell_type": "code",
   "execution_count": 17,
   "metadata": {
    "collapsed": false
   },
   "outputs": [
    {
     "data": {
      "text/html": [
       "<div>\n",
       "<table border=\"1\" class=\"dataframe\">\n",
       "  <thead>\n",
       "    <tr style=\"text-align: right;\">\n",
       "      <th></th>\n",
       "      <th>bonus</th>\n",
       "      <th>deferral_payments</th>\n",
       "      <th>deferred_income</th>\n",
       "      <th>director_fees</th>\n",
       "      <th>exercised_stock_options</th>\n",
       "      <th>expenses</th>\n",
       "      <th>from_messages</th>\n",
       "      <th>from_poi_to_this_person</th>\n",
       "      <th>from_this_person_to_poi</th>\n",
       "      <th>loan_advances</th>\n",
       "      <th>long_term_incentive</th>\n",
       "      <th>other</th>\n",
       "      <th>poi</th>\n",
       "      <th>restricted_stock</th>\n",
       "      <th>restricted_stock_deferred</th>\n",
       "      <th>salary</th>\n",
       "      <th>shared_receipt_with_poi</th>\n",
       "      <th>to_messages</th>\n",
       "      <th>total_payments</th>\n",
       "      <th>total_stock_value</th>\n",
       "    </tr>\n",
       "  </thead>\n",
       "  <tbody>\n",
       "    <tr>\n",
       "      <th>TOTAL</th>\n",
       "      <td>97343619.0</td>\n",
       "      <td>32083396.0</td>\n",
       "      <td>-27992891.0</td>\n",
       "      <td>1398517.0</td>\n",
       "      <td>311764000.0</td>\n",
       "      <td>5235198.0</td>\n",
       "      <td>NaN</td>\n",
       "      <td>NaN</td>\n",
       "      <td>NaN</td>\n",
       "      <td>83925000.0</td>\n",
       "      <td>48521928.0</td>\n",
       "      <td>42667589.0</td>\n",
       "      <td>0.0</td>\n",
       "      <td>130322299.0</td>\n",
       "      <td>-7576788.0</td>\n",
       "      <td>26704229.0</td>\n",
       "      <td>NaN</td>\n",
       "      <td>NaN</td>\n",
       "      <td>309886585.0</td>\n",
       "      <td>434509511.0</td>\n",
       "    </tr>\n",
       "  </tbody>\n",
       "</table>\n",
       "</div>"
      ],
      "text/plain": [
       "            bonus  deferral_payments  deferred_income  director_fees  \\\n",
       "TOTAL  97343619.0         32083396.0      -27992891.0      1398517.0   \n",
       "\n",
       "       exercised_stock_options   expenses  from_messages  \\\n",
       "TOTAL              311764000.0  5235198.0            NaN   \n",
       "\n",
       "       from_poi_to_this_person  from_this_person_to_poi  loan_advances  \\\n",
       "TOTAL                      NaN                      NaN     83925000.0   \n",
       "\n",
       "       long_term_incentive       other  poi  restricted_stock  \\\n",
       "TOTAL           48521928.0  42667589.0  0.0       130322299.0   \n",
       "\n",
       "       restricted_stock_deferred      salary  shared_receipt_with_poi  \\\n",
       "TOTAL                 -7576788.0  26704229.0                      NaN   \n",
       "\n",
       "       to_messages  total_payments  total_stock_value  \n",
       "TOTAL          NaN     309886585.0        434509511.0  "
      ]
     },
     "execution_count": 17,
     "metadata": {},
     "output_type": "execute_result"
    }
   ],
   "source": [
    "df[df.salary > 2* 1e7]"
   ]
  },
  {
   "cell_type": "code",
   "execution_count": 18,
   "metadata": {
    "collapsed": false
   },
   "outputs": [
    {
     "data": {
      "text/html": [
       "<div>\n",
       "<table border=\"1\" class=\"dataframe\">\n",
       "  <thead>\n",
       "    <tr style=\"text-align: right;\">\n",
       "      <th></th>\n",
       "      <th>bonus</th>\n",
       "      <th>deferral_payments</th>\n",
       "      <th>deferred_income</th>\n",
       "      <th>director_fees</th>\n",
       "      <th>exercised_stock_options</th>\n",
       "      <th>expenses</th>\n",
       "      <th>from_messages</th>\n",
       "      <th>from_poi_to_this_person</th>\n",
       "      <th>from_this_person_to_poi</th>\n",
       "      <th>loan_advances</th>\n",
       "      <th>long_term_incentive</th>\n",
       "      <th>other</th>\n",
       "      <th>poi</th>\n",
       "      <th>restricted_stock</th>\n",
       "      <th>restricted_stock_deferred</th>\n",
       "      <th>salary</th>\n",
       "      <th>shared_receipt_with_poi</th>\n",
       "      <th>to_messages</th>\n",
       "      <th>total_payments</th>\n",
       "      <th>total_stock_value</th>\n",
       "    </tr>\n",
       "  </thead>\n",
       "  <tbody>\n",
       "    <tr>\n",
       "      <th>TOTAL</th>\n",
       "      <td>97343619.0</td>\n",
       "      <td>32083396.0</td>\n",
       "      <td>-27992891.0</td>\n",
       "      <td>1398517.0</td>\n",
       "      <td>311764000.0</td>\n",
       "      <td>5235198.0</td>\n",
       "      <td>NaN</td>\n",
       "      <td>NaN</td>\n",
       "      <td>NaN</td>\n",
       "      <td>83925000.0</td>\n",
       "      <td>48521928.0</td>\n",
       "      <td>42667589.0</td>\n",
       "      <td>0.0</td>\n",
       "      <td>130322299.0</td>\n",
       "      <td>-7576788.0</td>\n",
       "      <td>26704229.0</td>\n",
       "      <td>NaN</td>\n",
       "      <td>NaN</td>\n",
       "      <td>309886585.0</td>\n",
       "      <td>434509511.0</td>\n",
       "    </tr>\n",
       "  </tbody>\n",
       "</table>\n",
       "</div>"
      ],
      "text/plain": [
       "            bonus  deferral_payments  deferred_income  director_fees  \\\n",
       "TOTAL  97343619.0         32083396.0      -27992891.0      1398517.0   \n",
       "\n",
       "       exercised_stock_options   expenses  from_messages  \\\n",
       "TOTAL              311764000.0  5235198.0            NaN   \n",
       "\n",
       "       from_poi_to_this_person  from_this_person_to_poi  loan_advances  \\\n",
       "TOTAL                      NaN                      NaN     83925000.0   \n",
       "\n",
       "       long_term_incentive       other  poi  restricted_stock  \\\n",
       "TOTAL           48521928.0  42667589.0  0.0       130322299.0   \n",
       "\n",
       "       restricted_stock_deferred      salary  shared_receipt_with_poi  \\\n",
       "TOTAL                 -7576788.0  26704229.0                      NaN   \n",
       "\n",
       "       to_messages  total_payments  total_stock_value  \n",
       "TOTAL          NaN     309886585.0        434509511.0  "
      ]
     },
     "execution_count": 18,
     "metadata": {},
     "output_type": "execute_result"
    }
   ],
   "source": [
    "df[df.bonus > 0.6 * 1e8]"
   ]
  },
  {
   "cell_type": "markdown",
   "metadata": {},
   "source": [
    "After inspecting closely what this outlier might be I figured out that it is the \"TOTAL\" row from the parsed pdf. That is obviously an error during parsing of the data so it must be removed. There was also another outlier. This time it wasn't an extreme value however in the context of our POI identifier it wasn't needed as it wasn't a person. It was the entry for \"THE TRAVEL AGENCY IN THE PARK\" which was removed as well."
   ]
  },
  {
   "cell_type": "code",
   "execution_count": 19,
   "metadata": {
    "collapsed": false
   },
   "outputs": [
    {
     "data": {
      "text/plain": [
       "{'bonus': 'NaN',\n",
       " 'deferral_payments': 'NaN',\n",
       " 'deferred_income': 'NaN',\n",
       " 'director_fees': 'NaN',\n",
       " 'exercised_stock_options': 'NaN',\n",
       " 'expenses': 'NaN',\n",
       " 'from_messages': 'NaN',\n",
       " 'from_poi_to_this_person': 'NaN',\n",
       " 'from_this_person_to_poi': 'NaN',\n",
       " 'loan_advances': 'NaN',\n",
       " 'long_term_incentive': 'NaN',\n",
       " 'other': 362096,\n",
       " 'poi': False,\n",
       " 'restricted_stock': 'NaN',\n",
       " 'restricted_stock_deferred': 'NaN',\n",
       " 'salary': 'NaN',\n",
       " 'shared_receipt_with_poi': 'NaN',\n",
       " 'to_messages': 'NaN',\n",
       " 'total_payments': 362096,\n",
       " 'total_stock_value': 'NaN'}"
      ]
     },
     "execution_count": 19,
     "metadata": {},
     "output_type": "execute_result"
    }
   ],
   "source": [
    "# Remove error in data\n",
    "# Update original data\n",
    "data_dict.pop(\"TOTAL\")\n",
    "data_dict.pop(\"THE TRAVEL AGENCY IN THE PARK\")"
   ]
  },
  {
   "cell_type": "code",
   "execution_count": 20,
   "metadata": {
    "collapsed": false
   },
   "outputs": [],
   "source": [
    "hide_me\n",
    "# Update dataframe with new data\n",
    "df = pd.DataFrame(data_dict)\n",
    "df = df.convert_objects(convert_numeric=True)\n",
    "df = df.transpose()"
   ]
  },
  {
   "cell_type": "code",
   "execution_count": 21,
   "metadata": {
    "collapsed": false
   },
   "outputs": [
    {
     "data": {
      "image/png": "[encoded data removed]",
      "text/plain": [
       "<matplotlib.figure.Figure at 0x111155c90>"
      ]
     },
     "metadata": {},
     "output_type": "display_data"
    }
   ],
   "source": [
    "hide_me\n",
    "visualise_pair_features(\"salary\", \"bonus\", \"Salary vs. Bonus without Outliers\")"
   ]
  },
  {
   "cell_type": "markdown",
   "metadata": {},
   "source": [
    "Obviously, the scatterplot of data is more useful after cleaning errors in data. Let's see how each histogram of each feature are changed:"
   ]
  },
  {
   "cell_type": "code",
   "execution_count": 22,
   "metadata": {
    "collapsed": false
   },
   "outputs": [
    {
     "data": {
      "image/png": "[encoded data removed]",
      "text/plain": [
       "<matplotlib.figure.Figure at 0x113823710>"
      ]
     },
     "metadata": {},
     "output_type": "display_data"
    }
   ],
   "source": [
    "hide_me\n",
    "plt.figure(figsize=(17, 30))\n",
    "for i in range(0, len(df.columns.values)):\n",
    "    plt.subplot(7,3,i+1)\n",
    "    plt.subplots_adjust(hspace=.3)\n",
    "    plt.xticks(rotation='vertical')\n",
    "    df[df.columns.values[i]].hist()\n",
    "    plt.xlabel(parse_labels(df.columns.values[i]))"
   ]
  },
  {
   "cell_type": "markdown",
   "metadata": {},
   "source": [
    "Even though outliers still exist in histograms shown above, they look normal enough.\n",
    "Another way to clean this data is to scrutinize whether each data point matches with condition of each feature. In this project, Udacity has provided us a pdf file **`enron61702insiderpay.pdf`**. This file contains insiders' payment information of all employee in the dataset.\n",
    "This is a small snapshot of how the file looks like:\n",
    "\n",
    "![image](https://dl.dropboxusercontent.com/u/27868566/shots/shot_2017-04-22_12-12-53.png)\n"
   ]
  },
  {
   "cell_type": "markdown",
   "metadata": {},
   "source": [
    "You can see that columns are categorized into two groups such as Payments and Stock Value:\n",
    "* In Payments group, **`Total Payments`** is a combination of:\n",
    "    * `salary`\n",
    "    * `bonus`\n",
    "    * `long term incentive`\n",
    "    * `director fees`\n",
    "    * `deferred income`\n",
    "    * `loan advances`\n",
    "    * `expenses`\n",
    "    * `other`\n",
    "    * `salary`\n",
    "* In Stock Value group, **`Total Stock Value`** is a combination of:\n",
    "    * `restricted_stock`\n",
    "    * `exercised_stock_options`\n",
    "    * `restricted_stock_deferred`\n",
    "    \n",
    "Now we can testify whether each data point matches with these two conditions."
   ]
  },
  {
   "cell_type": "code",
   "execution_count": 23,
   "metadata": {
    "collapsed": false
   },
   "outputs": [],
   "source": [
    "hide_me\n",
    "df = pd.DataFrame(data_dict)\n",
    "df = df.convert_objects(convert_numeric=True)\n",
    "df = df.transpose()\n",
    "df = df.fillna(0)"
   ]
  },
  {
   "cell_type": "code",
   "execution_count": 24,
   "metadata": {
    "collapsed": false
   },
   "outputs": [],
   "source": [
    "hide_me\n",
    "combination1 = ['bonus', 'director_fees', 'deferral_payments',\n",
    "              'deferred_income','loan_advances', 'long_term_incentive',\n",
    "              'expenses', 'other', 'salary']\n",
    "df['condition1'] = df[combination1].sum(axis = 1)"
   ]
  },
  {
   "cell_type": "code",
   "execution_count": 25,
   "metadata": {
    "collapsed": false
   },
   "outputs": [
    {
     "data": {
      "text/plain": [
       "(array([ 8, 11]),)"
      ]
     },
     "execution_count": 25,
     "metadata": {},
     "output_type": "execute_result"
    }
   ],
   "source": [
    "np.where(df['condition1'] <> df['total_payments'])"
   ]
  },
  {
   "cell_type": "markdown",
   "metadata": {},
   "source": [
    "After I create a new column **`condition1`**, which is sum of all features in the payment group for each employee, I compare its value with the value of **`total_payemnts`** column"
   ]
  },
  {
   "cell_type": "code",
   "execution_count": 26,
   "metadata": {
    "collapsed": false
   },
   "outputs": [
    {
     "data": {
      "text/html": [
       "<div>\n",
       "<table border=\"1\" class=\"dataframe\">\n",
       "  <thead>\n",
       "    <tr style=\"text-align: right;\">\n",
       "      <th></th>\n",
       "      <th>condition1</th>\n",
       "      <th>total_payments</th>\n",
       "    </tr>\n",
       "  </thead>\n",
       "  <tbody>\n",
       "    <tr>\n",
       "      <th>BELFER ROBERT</th>\n",
       "      <td>-99215.0</td>\n",
       "      <td>102500.0</td>\n",
       "    </tr>\n",
       "    <tr>\n",
       "      <th>BHATNAGAR SANJAY</th>\n",
       "      <td>275728.0</td>\n",
       "      <td>15456290.0</td>\n",
       "    </tr>\n",
       "  </tbody>\n",
       "</table>\n",
       "</div>"
      ],
      "text/plain": [
       "                  condition1  total_payments\n",
       "BELFER ROBERT       -99215.0        102500.0\n",
       "BHATNAGAR SANJAY    275728.0      15456290.0"
      ]
     },
     "execution_count": 26,
     "metadata": {},
     "output_type": "execute_result"
    }
   ],
   "source": [
    "df[['condition1', 'total_payments']].iloc[[8,11]]"
   ]
  },
  {
   "cell_type": "code",
   "execution_count": 27,
   "metadata": {
    "collapsed": false
   },
   "outputs": [
    {
     "data": {
      "text/html": [
       "<div>\n",
       "<table border=\"1\" class=\"dataframe\">\n",
       "  <thead>\n",
       "    <tr style=\"text-align: right;\">\n",
       "      <th></th>\n",
       "      <th>bonus</th>\n",
       "      <th>director_fees</th>\n",
       "      <th>deferral_payments</th>\n",
       "      <th>deferred_income</th>\n",
       "      <th>loan_advances</th>\n",
       "      <th>long_term_incentive</th>\n",
       "      <th>expenses</th>\n",
       "      <th>other</th>\n",
       "      <th>salary</th>\n",
       "      <th>total_payments</th>\n",
       "    </tr>\n",
       "  </thead>\n",
       "  <tbody>\n",
       "    <tr>\n",
       "      <th>BELFER ROBERT</th>\n",
       "      <td>0.0</td>\n",
       "      <td>3285.0</td>\n",
       "      <td>-102500.0</td>\n",
       "      <td>0.0</td>\n",
       "      <td>0.0</td>\n",
       "      <td>0.0</td>\n",
       "      <td>0.0</td>\n",
       "      <td>0.0</td>\n",
       "      <td>0.0</td>\n",
       "      <td>102500.0</td>\n",
       "    </tr>\n",
       "    <tr>\n",
       "      <th>BHATNAGAR SANJAY</th>\n",
       "      <td>0.0</td>\n",
       "      <td>137864.0</td>\n",
       "      <td>0.0</td>\n",
       "      <td>0.0</td>\n",
       "      <td>0.0</td>\n",
       "      <td>0.0</td>\n",
       "      <td>0.0</td>\n",
       "      <td>137864.0</td>\n",
       "      <td>0.0</td>\n",
       "      <td>15456290.0</td>\n",
       "    </tr>\n",
       "  </tbody>\n",
       "</table>\n",
       "</div>"
      ],
      "text/plain": [
       "                  bonus  director_fees  deferral_payments  deferred_income  \\\n",
       "BELFER ROBERT       0.0         3285.0          -102500.0              0.0   \n",
       "BHATNAGAR SANJAY    0.0       137864.0                0.0              0.0   \n",
       "\n",
       "                  loan_advances  long_term_incentive  expenses     other  \\\n",
       "BELFER ROBERT               0.0                  0.0       0.0       0.0   \n",
       "BHATNAGAR SANJAY            0.0                  0.0       0.0  137864.0   \n",
       "\n",
       "                  salary  total_payments  \n",
       "BELFER ROBERT        0.0        102500.0  \n",
       "BHATNAGAR SANJAY     0.0      15456290.0  "
      ]
     },
     "execution_count": 27,
     "metadata": {},
     "output_type": "execute_result"
    }
   ],
   "source": [
    "hide_me\n",
    "combination1.append('total_payments')\n",
    "df.iloc[[8,11]][combination1]"
   ]
  },
  {
   "cell_type": "markdown",
   "metadata": {},
   "source": [
    "Let's check with the information in the pdf file:\n",
    "![image](https://dl.dropboxusercontent.com/u/27868566/shots/shot_2017-04-22_21-19-45.png)"
   ]
  },
  {
   "cell_type": "markdown",
   "metadata": {},
   "source": [
    "We found two data-entry errors. We can fix by the following code:"
   ]
  },
  {
   "cell_type": "code",
   "execution_count": 28,
   "metadata": {
    "collapsed": false
   },
   "outputs": [],
   "source": [
    "data_dict['BELFER ROBERT']['deferral_payments'] = 0\n",
    "data_dict['BELFER ROBERT']['deferred_income'] = -102500\n",
    "data_dict['BELFER ROBERT']['expenses'] = 3285\n",
    "data_dict['BELFER ROBERT']['director_fees'] = 102500\n",
    "data_dict['BELFER ROBERT']['total_payments'] = 3285\n",
    "data_dict['BHATNAGAR SANJAY']['director_fees'] = 0\n",
    "data_dict['BHATNAGAR SANJAY']['other'] = 0\n",
    "data_dict['BHATNAGAR SANJAY']['expenses'] = 137864\n",
    "data_dict['BHATNAGAR SANJAY']['total_payments'] = 137864"
   ]
  },
  {
   "cell_type": "code",
   "execution_count": 29,
   "metadata": {
    "collapsed": false
   },
   "outputs": [
    {
     "data": {
      "text/html": [
       "<div>\n",
       "<table border=\"1\" class=\"dataframe\">\n",
       "  <thead>\n",
       "    <tr style=\"text-align: right;\">\n",
       "      <th></th>\n",
       "      <th>condition1</th>\n",
       "      <th>total_payments</th>\n",
       "    </tr>\n",
       "  </thead>\n",
       "  <tbody>\n",
       "    <tr>\n",
       "      <th>BELFER ROBERT</th>\n",
       "      <td>3285.0</td>\n",
       "      <td>3285.0</td>\n",
       "    </tr>\n",
       "    <tr>\n",
       "      <th>BHATNAGAR SANJAY</th>\n",
       "      <td>137864.0</td>\n",
       "      <td>137864.0</td>\n",
       "    </tr>\n",
       "  </tbody>\n",
       "</table>\n",
       "</div>"
      ],
      "text/plain": [
       "                  condition1  total_payments\n",
       "BELFER ROBERT         3285.0          3285.0\n",
       "BHATNAGAR SANJAY    137864.0        137864.0"
      ]
     },
     "execution_count": 29,
     "metadata": {},
     "output_type": "execute_result"
    }
   ],
   "source": [
    "hide_me\n",
    "df = pd.DataFrame(data_dict)\n",
    "df = df.convert_objects(convert_numeric=True)\n",
    "df = df.transpose()\n",
    "df = df.fillna(0)\n",
    "combination1 = ['bonus', 'director_fees', 'deferral_payments',\n",
    "              'deferred_income','loan_advances', 'long_term_incentive',\n",
    "              'expenses', 'other', 'salary']\n",
    "df['condition1'] = df[combination1].sum(axis = 1)\n",
    "df[['condition1', 'total_payments']].iloc[[8,11]]"
   ]
  },
  {
   "cell_type": "markdown",
   "metadata": {},
   "source": [
    "Now we can confirm that we have fixed the dataset with the first condition. And we need to testify if there is any similar data-entry errors in second condition group (stock values)."
   ]
  },
  {
   "cell_type": "code",
   "execution_count": 30,
   "metadata": {
    "collapsed": true
   },
   "outputs": [],
   "source": [
    "hide_me\n",
    "combination2 = ['restricted_stock', 'exercised_stock_options', 'restricted_stock_deferred']\n",
    "df['condition2'] = df[combination2].sum(axis = 1)"
   ]
  },
  {
   "cell_type": "code",
   "execution_count": 31,
   "metadata": {
    "collapsed": false
   },
   "outputs": [
    {
     "data": {
      "text/plain": [
       "(array([ 8, 11]),)"
      ]
     },
     "execution_count": 31,
     "metadata": {},
     "output_type": "execute_result"
    }
   ],
   "source": [
    "np.where(df['condition2'] <> df['total_stock_value'])"
   ]
  },
  {
   "cell_type": "code",
   "execution_count": 32,
   "metadata": {
    "collapsed": false
   },
   "outputs": [
    {
     "data": {
      "text/html": [
       "<div>\n",
       "<table border=\"1\" class=\"dataframe\">\n",
       "  <thead>\n",
       "    <tr style=\"text-align: right;\">\n",
       "      <th></th>\n",
       "      <th>restricted_stock</th>\n",
       "      <th>exercised_stock_options</th>\n",
       "      <th>restricted_stock_deferred</th>\n",
       "      <th>total_stock_value</th>\n",
       "    </tr>\n",
       "  </thead>\n",
       "  <tbody>\n",
       "    <tr>\n",
       "      <th>BELFER ROBERT</th>\n",
       "      <td>0.0</td>\n",
       "      <td>3285.0</td>\n",
       "      <td>44093.0</td>\n",
       "      <td>-44093.0</td>\n",
       "    </tr>\n",
       "    <tr>\n",
       "      <th>BHATNAGAR SANJAY</th>\n",
       "      <td>-2604490.0</td>\n",
       "      <td>2604490.0</td>\n",
       "      <td>15456290.0</td>\n",
       "      <td>0.0</td>\n",
       "    </tr>\n",
       "  </tbody>\n",
       "</table>\n",
       "</div>"
      ],
      "text/plain": [
       "                  restricted_stock  exercised_stock_options  \\\n",
       "BELFER ROBERT                  0.0                   3285.0   \n",
       "BHATNAGAR SANJAY        -2604490.0                2604490.0   \n",
       "\n",
       "                  restricted_stock_deferred  total_stock_value  \n",
       "BELFER ROBERT                       44093.0           -44093.0  \n",
       "BHATNAGAR SANJAY                 15456290.0                0.0  "
      ]
     },
     "execution_count": 32,
     "metadata": {},
     "output_type": "execute_result"
    }
   ],
   "source": [
    "hide_me\n",
    "combination2.append('total_stock_value')\n",
    "df.iloc[[8,11]][combination2]"
   ]
  },
  {
   "cell_type": "markdown",
   "metadata": {},
   "source": [
    "Let's check with the information in the pdf file:\n",
    "![image](https://dl.dropboxusercontent.com/u/27868566/shots/shot_2017-04-23_18-50-21.png)\n",
    "\n",
    "\n",
    "The data-entry errors also happens with two people Belfer Robert and Bhatnagar Sanjay in stock value section.\n",
    "\n",
    "We can fix them by following code:"
   ]
  },
  {
   "cell_type": "code",
   "execution_count": 33,
   "metadata": {
    "collapsed": true
   },
   "outputs": [],
   "source": [
    "data_dict['BELFER ROBERT']['restricted_stock'] = 44093\n",
    "data_dict['BELFER ROBERT']['restricted_stock_deferred'] = -44093\n",
    "data_dict['BELFER ROBERT']['exercised_stock_options'] = 0\n",
    "data_dict['BELFER ROBERT']['total_stock_value'] = 0\n",
    "data_dict['BHATNAGAR SANJAY']['restricted_stock'] = 2604490\n",
    "data_dict['BHATNAGAR SANJAY']['restricted_stock_deferred'] = -2604490\n",
    "data_dict['BHATNAGAR SANJAY']['exercised_stock_options'] = 15456290\n",
    "data_dict['BHATNAGAR SANJAY']['total_stock_value'] = 15456290"
   ]
  },
  {
   "cell_type": "code",
   "execution_count": 34,
   "metadata": {
    "collapsed": false
   },
   "outputs": [
    {
     "data": {
      "text/html": [
       "<div>\n",
       "<table border=\"1\" class=\"dataframe\">\n",
       "  <thead>\n",
       "    <tr style=\"text-align: right;\">\n",
       "      <th></th>\n",
       "      <th>condition2</th>\n",
       "      <th>total_stock_value</th>\n",
       "    </tr>\n",
       "  </thead>\n",
       "  <tbody>\n",
       "    <tr>\n",
       "      <th>BELFER ROBERT</th>\n",
       "      <td>0.0</td>\n",
       "      <td>0.0</td>\n",
       "    </tr>\n",
       "    <tr>\n",
       "      <th>BHATNAGAR SANJAY</th>\n",
       "      <td>15456290.0</td>\n",
       "      <td>15456290.0</td>\n",
       "    </tr>\n",
       "  </tbody>\n",
       "</table>\n",
       "</div>"
      ],
      "text/plain": [
       "                  condition2  total_stock_value\n",
       "BELFER ROBERT            0.0                0.0\n",
       "BHATNAGAR SANJAY  15456290.0         15456290.0"
      ]
     },
     "execution_count": 34,
     "metadata": {},
     "output_type": "execute_result"
    }
   ],
   "source": [
    "hide_me\n",
    "df = pd.DataFrame(data_dict)\n",
    "df = df.convert_objects(convert_numeric=True)\n",
    "df = df.transpose()\n",
    "df = df.fillna(0)\n",
    "combination2 = ['restricted_stock', 'exercised_stock_options', 'restricted_stock_deferred']\n",
    "df['condition2'] = df[combination2].sum(axis = 1)\n",
    "combination2.append('total_stock_value')\n",
    "df[['condition2', 'total_stock_value']].iloc[[8,11]]"
   ]
  },
  {
   "cell_type": "markdown",
   "metadata": {},
   "source": [
    "**Summary:**\n",
    "* Remove 1 data point `TOTAL`, which is outlier in the dataset.\n",
    "* Remove 1 irrelevant data point `THE TRAVEL AGENCY IN THE PARK`\n",
    "* Fix some errors caused by data-entry mistakes.\n",
    "\n",
    "**Result:** garbage in, garbage out! I hear this comment almost every other day. It means we cannot build a good prediciting model if our data is not clean. So far we have cleaned inapproriate errors that we have known. If we can find out more errors, we will try to update the our data cleaning process to get a better predicting model."
   ]
  },
  {
   "cell_type": "markdown",
   "metadata": {
    "collapsed": false
   },
   "source": [
    "## III. Creating New Features\n",
    "\n",
    "Next up three new features were created. One called \"fraction_from_poi\" which is the fraction of email messages received from a poi to all the messages received and \"fraction_to_poi\" which is the fraction of email messages sent to a poi to all the messages sent by a given person. My logic states that if a given person has a lot of interaction with a POI then he might be a POI as well so the fraction of messages to and from a POI were computed and used as a feature in the algorithms to follow. And the last feature I want to add is bonus_salary_ratio which combine the effect of bonus and salary as descibed by the above scatterplot.\n",
    "\n"
   ]
  },
  {
   "cell_type": "code",
   "execution_count": 35,
   "metadata": {
    "collapsed": true
   },
   "outputs": [],
   "source": [
    "### Task 3: Create new feature(s)\n",
    "# Bonus-salary ratio\n",
    "for employee, features in data_dict.iteritems():\n",
    "    if features['bonus'] == \"NaN\" or features['salary'] == \"NaN\":\n",
    "        features['bonus_salary_ratio'] = \"NaN\"\n",
    "    else:\n",
    "        features['bonus_salary_ratio'] = float(features['bonus']) / float(features['salary'])\n",
    "\n",
    "# from_this_person_to_poi as a percentage of from_messages\n",
    "for employee, features in data_dict.iteritems():\n",
    "    if features['from_this_person_to_poi'] == \"NaN\" or features['from_messages'] == \"NaN\":\n",
    "        features['fraction_to_poi'] = \"NaN\"\n",
    "    else:\n",
    "        features['fraction_to_poi'] = float(features['from_this_person_to_poi']) / float(features['from_messages'])\n",
    "\n",
    "# from_poi_to_this_person as a percentage of to_messages\n",
    "for employee, features in data_dict.iteritems():\n",
    "    if features['from_poi_to_this_person'] == \"NaN\" or features['to_messages'] == \"NaN\":\n",
    "        features['fraction_from_poi'] = \"NaN\"\n",
    "    else:\n",
    "        features['fraction_from_poi'] = float(features['from_poi_to_this_person']) / float(features['to_messages'])"
   ]
  },
  {
   "cell_type": "code",
   "execution_count": 36,
   "metadata": {
    "collapsed": true
   },
   "outputs": [],
   "source": [
    "hide_me\n",
    "### Store to my_dataset for easy export below.\n",
    "\n",
    "my_dataset = data_dict\n",
    "\n",
    "### Extract features and labels from dataset for local testing\n",
    "data = featureFormat(my_dataset, features_list, sort_keys = True)\n",
    "labels, features = targetFeatureSplit(data)"
   ]
  },
  {
   "cell_type": "markdown",
   "metadata": {},
   "source": [
    "Here is the visualisation of those two features. "
   ]
  },
  {
   "cell_type": "code",
   "execution_count": 37,
   "metadata": {
    "collapsed": false
   },
   "outputs": [
    {
     "data": {
      "image/png": "[encoded data removed]",
      "text/plain": [
       "<matplotlib.figure.Figure at 0x112bf3f10>"
      ]
     },
     "metadata": {},
     "output_type": "display_data"
    }
   ],
   "source": [
    "hide_me\n",
    "hide_me\n",
    "df = pd.DataFrame(data_dict)\n",
    "df = df.convert_objects(convert_numeric=True)\n",
    "df = df.transpose()\n",
    "df = df.fillna(0)\n",
    "visualise_pair_features(\"fraction_from_poi\", \"fraction_to_poi\", \"Fraction from POI vs. Fraction to POI\")"
   ]
  },
  {
   "cell_type": "markdown",
   "metadata": {},
   "source": [
    "## IV. Algorithm Implementation"
   ]
  },
  {
   "cell_type": "code",
   "execution_count": 38,
   "metadata": {
    "collapsed": false
   },
   "outputs": [
    {
     "name": "stderr",
     "output_type": "stream",
     "text": [
      "/usr/local/lib/python2.7/site-packages/sklearn/grid_search.py:43: DeprecationWarning: This module was deprecated in version 0.18 in favor of the model_selection module into which all the refactored classes and functions are moved. This module will be removed in 0.20.\n",
      "  DeprecationWarning)\n"
     ]
    }
   ],
   "source": [
    "hide_me\n",
    "### Task 4: Try a varity of classifiers\n",
    "### Please name your classifier clf for easy export below.\n",
    "### Note that if you want to do PCA or other multi-stage operations,\n",
    "### you'll need to use Pipelines. For more info:\n",
    "### http://scikit-learn.org/stable/modules/pipeline.html\n",
    "\n",
    "from sklearn.feature_selection import SelectKBest, f_classif\n",
    "from sklearn.naive_bayes import GaussianNB\n",
    "from sklearn.svm import SVC\n",
    "from sklearn.tree import DecisionTreeClassifier\n",
    "from sklearn.ensemble import RandomForestClassifier\n",
    "from sklearn.ensemble import AdaBoostClassifier\n",
    "from sklearn.decomposition import PCA\n",
    "from sklearn.preprocessing import StandardScaler\n",
    "from sklearn.linear_model import LogisticRegression\n",
    "from sklearn.pipeline import Pipeline\n",
    "from sklearn.cross_validation import StratifiedShuffleSplit\n",
    "from sklearn.grid_search import GridSearchCV"
   ]
  },
  {
   "cell_type": "markdown",
   "metadata": {},
   "source": [
    "A pipeline is just an sklearn method to combine transformations and classification into one procedure.\n",
    "\n",
    "By 'fitting' and 'predicting' with a pipeline, I am asking sklearn to sequentially fit and transform (in the case of transformations) and fit and predict (in the case of classifiers), the model that I have developed.\n",
    "\n",
    "In each pipeline, I use SelectKBest in a range from 5 to 10 features and use it on three different algorithms."
   ]
  },
  {
   "cell_type": "code",
   "execution_count": 39,
   "metadata": {
    "collapsed": false
   },
   "outputs": [],
   "source": [
    "skb = SelectKBest(f_classif)\n",
    "\n",
    "nb = GaussianNB()\n",
    "\n",
    "dt = DecisionTreeClassifier()\n",
    "\n",
    "rf = RandomForestClassifier()\n",
    "\n",
    "pca = PCA()\n",
    "\n",
    "pipeline1 = Pipeline([(\"kbest\", skb), (\"nb\", nb )])\n",
    "\n",
    "pipeline2 = Pipeline([(\"kbest\", skb), (\"dt\", dt )])\n",
    "\n",
    "pipeline3 = Pipeline([(\"kbest\", skb), (\"rf\", rf )])\n",
    "\n",
    "pipeline4 = Pipeline([(\"kbest\", skb), (\"PCA\", pca ),(\"dt\", dt )])\n",
    "\n",
    "params1 = {\"kbest__k\": range(5, 10)}\n",
    "\n",
    "params2 = {\"kbest__k\": range(5, 10),\n",
    "           \"dt__min_samples_split\": [2, 4, 6],\n",
    "           \"dt__min_samples_leaf\": [2, 4, 6],\n",
    "           \"dt__criterion\": [\"gini\", \"entropy\"]}\n",
    "\n",
    "params3 = {\"kbest__k\": range(5, 10),\n",
    "           \"rf__max_depth\": [None, 5, 10],\n",
    "           \"rf__n_estimators\": [10, 15, 20]}\n",
    "\n",
    "params4 = {\"kbest__k\": range(5, 10),\n",
    "           \"PCA__whiten\": [True, False],\n",
    "           \"dt__min_samples_split\": [2, 4, 6],\n",
    "           \"dt__min_samples_leaf\": [2, 4, 6],\n",
    "           \"dt__criterion\": [\"gini\", \"entropy\"]}"
   ]
  },
  {
   "cell_type": "markdown",
   "metadata": {},
   "source": [
    "## V. Data Set Split and Validation\n",
    "\n",
    "If you fit your model using all of your data there is a danger of overfitting (training your model to a specific dataset). So, when you use your model for different data, it may be useless. Instead, you train your model on a portion of your data and validate it on another portion of your data that you didn't use to train the model. This process is called as validation.\n",
    "\n",
    "In other word, validation is the process of holding out a part of your dataset in order to have a training and a testing dataset in which later you will test your algorithm and validate it's performance.\n",
    "\n",
    "Therefore I use a cross-validation method like `StratifiedShuffleSplit` that create multiple 'folds' (i.e. multiple train/validation splits of your data) but the purpose is always the same. 'fit' my model on one subset, see how well it performs (validate) on the other subset. The model that performs best in the validation phase is my optimal model.\n",
    "\n",
    "100 folds were found to be suitable because a bigger number would increase execution time a lot."
   ]
  },
  {
   "cell_type": "code",
   "execution_count": 40,
   "metadata": {
    "collapsed": false
   },
   "outputs": [
    {
     "data": {
      "text/plain": [
       "''"
      ]
     },
     "execution_count": 40,
     "metadata": {},
     "output_type": "execute_result"
    }
   ],
   "source": [
    "hide_me\n",
    "### Task 5: Tune your classifier to achieve better than .3 precision and recall\n",
    "### using our testing script. Check the tester.py script in the final project\n",
    "### folder for details on the evaluation method, especially the test_classifier\n",
    "### function. Because of the small size of the dataset, the script uses\n",
    "### stratified shuffle split cross validation. For more info:\n",
    "### http://scikit-learn.org/stable/modules/generated/sklearn.cross_validation.StratifiedShuffleSplit.html\n"
   ]
  },
  {
   "cell_type": "code",
   "execution_count": 55,
   "metadata": {
    "collapsed": true
   },
   "outputs": [],
   "source": [
    "sss = StratifiedShuffleSplit(labels, 100, test_size=0.3, random_state=42)"
   ]
  },
  {
   "cell_type": "markdown",
   "metadata": {},
   "source": [
    "## VI. Algorithm choice and tuning\n",
    "\n",
    "To avoid having to write code that loops over both the different subsets, and the different parameters for each classifier, there is a method call `GridSearchCV`. A function that works 'as needed' (i.e. as part of a sequence of steps that will work on the data fed to it while at the same time fitting a sequence of operations called a pipeline).\n",
    "\n",
    "### a) Naive Bayes\n",
    "\n",
    "Initially I decided to try Naive Bayes for this particular classification problem and in particular GaussianNB. Also, GridSearchCV was used for parameter tuning for both Naive Bayes (which doesn't need tuning though) and the final algorithm that was chosen. Tuning an algorithm which supports parameter tuning is important because each algorithm can't give us the best results available by using its default parameters. In order however to avoid tuning them manually GridSearchCV provides an easy and helpful way to do this automatically and get the best parameters for a given algorithm."
   ]
  },
  {
   "cell_type": "code",
   "execution_count": 293,
   "metadata": {
    "collapsed": false
   },
   "outputs": [
    {
     "name": "stdout",
     "output_type": "stream",
     "text": [
      "Tester Classification report\n",
      "GaussianNB(priors=None)\n",
      "\tAccuracy: 0.76353\tPrecision: 0.24564\tRecall: 0.37350\tF1: 0.29637\tF2: 0.33828\n",
      "\tTotal predictions: 15000\tTrue positives:  747\tFalse positives: 2294\tFalse negatives: 1253\tTrue negatives: 10706\n",
      "\n",
      "A total of 6 features were used\n",
      "The features used are: ['salary', 'fraction_to_poi', 'bonus', 'deferred_income', 'total_stock_value', 'exercised_stock_options']\n"
     ]
    }
   ],
   "source": [
    "hide_me\n",
    "pipeline1 = Pipeline([(\"kbest\", skb), (\"nb\", nb )])\n",
    "params1 = {\"kbest__k\": range(5, 10)}\n",
    "gs = GridSearchCV(pipeline1, params1, n_jobs=-1, cv=sss)\n",
    "gs.fit(features, labels)\n",
    "\n",
    "clf = gs.best_estimator_\n",
    "\n",
    "from tester import test_classifier\n",
    "\n",
    "print \"Tester Classification report\"\n",
    "test_classifier(clf.named_steps[\"nb\"], data_dict, features_list)\n",
    "\n",
    "features_used = gs.best_estimator_.named_steps[\"kbest\"].get_support(indices=True)\n",
    "print \"A total of %d features were used\" % len(features_used)\n",
    "#Note 1: You use 'features_list[i+1]', instead of 'features_list[i]', \n",
    "#because the first feature in that list is 'poi' \n",
    "#which you didn't include in the variable 'features'\n",
    "feature_names = [features_list[i + 1] for i in features_used]\n",
    "print \"The features used are:\", feature_names"
   ]
  },
  {
   "cell_type": "markdown",
   "metadata": {},
   "source": [
    "The evaluation metrics of choice was the f1 score which is a weighted average of precision and recall. \n",
    "\n",
    "$Precision = \\frac{true\\ positives}{true\\ positives\\ +\\ false\\ positives }$\n",
    "\n",
    "$Recall = \\frac{true\\ positives}{true\\ positives\\ +\\ false\\ negatives}$\n",
    "\n",
    "Precision is a measure of exactness and recall is a measure of completeness.\n",
    "\n",
    "**In the context of this POI identifier, high precision means that when I say that person is POI, I am usually right about it; and high recall means that I can identify most of the POI out there. Recall is about how many POI I've added to my list, out of all the ones that exist.\n",
    "Ideally, I would want to list all real POI that exist while being careful to not accidentally include some who are not. If I could do that, then I would have both high precision and high recall. It's exactly the situation of high F1-score is**\n",
    "\n",
    "Due to having set up a pipeline with KBest in it some extra measures had to be taken to identify how many and which features it decided to use.\n",
    "\n",
    "It turns out that it used 7 features and they were salary, fraction_to_poi, bonus_salary_ratio, bonus, deferred_income, total_stock_value, and exercised_stock_options.\n",
    "\n",
    "Specifically the test_classifier function was used which was provided by Udacity to evaluate the classifier. **Even though recall is higher than 0.3, the precision is lower than 0.3. It means performance of naive bayes algorithm does not meet the expectation of Udacity**\n",
    "\n",
    "However there was a really low precision and recall score with GaussianNB so the next choice to try is Decision Trees.\n",
    "\n"
   ]
  },
  {
   "cell_type": "markdown",
   "metadata": {},
   "source": [
    "### b) Decision Tree:\n",
    "\n",
    "With decision tree algorithm, I decide to let GridSearchCV determine the best value for `min_samples_split` in the range between 2 to 10, for `min_samples_leaf` in the range between 2 to 10, and to decide whether `gini` or `entropy` for `criterion`. Note: `min_samples_split` parameter has to be at least 2.   "
   ]
  },
  {
   "cell_type": "code",
   "execution_count": 294,
   "metadata": {
    "collapsed": false
   },
   "outputs": [
    {
     "name": "stdout",
     "output_type": "stream",
     "text": [
      "Tester Classification report\n",
      "DecisionTreeClassifier(class_weight=None, criterion='entropy', max_depth=None,\n",
      "            max_features=None, max_leaf_nodes=None,\n",
      "            min_impurity_split=1e-07, min_samples_leaf=9,\n",
      "            min_samples_split=6, min_weight_fraction_leaf=0.0,\n",
      "            presort=False, random_state=None, splitter='best')\n",
      "\tAccuracy: 0.86247\tPrecision: 0.47686\tRecall: 0.32450\tF1: 0.38619\tF2: 0.34665\n",
      "\tTotal predictions: 15000\tTrue positives:  649\tFalse positives:  712\tFalse negatives: 1351\tTrue negatives: 12288\n",
      "\n",
      "A total of 9 features were used\n",
      "feature no. 1: total_stock_value (0.507159967337) (5.41890018941)\n",
      "feature no. 2: exercised_stock_options (0.121335071968) (4.20243630027)\n",
      "feature no. 3: long_term_incentive (0.0) (8.82544221992)\n",
      "feature no. 4: deferred_income (0.0) (22.5105490902)\n",
      "feature no. 5: bonus (0.0) (0.768146344787)\n",
      "feature no. 6: total_payments (0.0) (7.18405565829)\n",
      "feature no. 7: fraction_to_poi (0.0) (0.228859619021)\n",
      "feature no. 8: bonus_salary_ratio (0.0) (3.12809174816)\n",
      "feature no. 9: salary (0.0) (10.7835847082)\n"
     ]
    }
   ],
   "source": [
    "hide_me\n",
    "pipeline2 = Pipeline([(\"kbest\", skb), (\"dt\", dt )])\n",
    "params2 = {\"kbest__k\": range(5, 10),\n",
    "           \"dt__min_samples_split\": range(2,10),\n",
    "           \"dt__min_samples_leaf\": range(2,10),\n",
    "           \"dt__criterion\": [\"gini\", \"entropy\"]}\n",
    "\n",
    "gs = GridSearchCV(pipeline2, params2, n_jobs=-1, cv=sss, scoring=\"f1\")\n",
    "gs.fit(features, labels)\n",
    "clf= gs.best_estimator_\n",
    "print \"Tester Classification report\"\n",
    "test_classifier(clf.named_steps[\"dt\"], data_dict, features_list)\n",
    "\n",
    "features_used = gs.best_estimator_.named_steps[\"kbest\"].get_support(indices=True)\n",
    "print \"A total of %d features were used\" % len(features_used)\n",
    "#Note 1: You use 'features_list[i+1]', instead of 'features_list[i]', \n",
    "#because the first feature in that list is 'poi' \n",
    "#which you didn't include in the variable 'features'\n",
    "feature_names = [features_list[i + 1] for i in features_used]\n",
    "#print \"The features used are:\", feature_names\n",
    "scores = [clf.named_steps['kbest'].scores_[i + 1] for i in features_used]\n",
    "#print 'Scores: ', scores\n",
    "importances = [clf.named_steps['dt'].feature_importances_[i+1] for i in features_used]\n",
    "#print 'Importance: ', importances\n",
    "import numpy as np\n",
    "indices = np.argsort(importances)[::-1]\n",
    "#print 'Indices: ', indices\n",
    "for i in range(len(feature_names)):\n",
    "    print \"feature no. {}: {} ({}) ({})\".format(i+1, feature_names[indices[i]], importances[indices[i]], scores[indices[i]])\n"
   ]
  },
  {
   "cell_type": "markdown",
   "metadata": {},
   "source": [
    "Due to having set up a pipeline with SelectKBest, I can identify the number features were used are 9 features: total_stock_value, exercised_stock_options, long_term_incentive, deferred_income, bonus, total_payments, fraction_to_poi, bonus_salary_ratio, salary. Two numbers are next to each feature. The first number is feature importance( fom decision tree classifier) and the second number is feature score(from SelectKBest). The order of features is descending based on feature importance.\n",
    "\n",
    "Total Stock Value and Exercised Stock Options are two most important features with decision tree classification.\n",
    "In fact, the cleaning data process have improved the result of model. I just added the part of fixing data entry errors after I review this report and run again. I remember the most important feature for this test was bonus_salary_ratio.\n",
    "\n",
    "**Summary:**\n",
    "* **It takes about 3 to 5 minutes o run 100 folds with decision algorithm. I dare not to go further than 100 folds because it takes tons of processing time.**\n",
    "* **GridSearchCV determined that the best parameters for this algorithm is `{'min_samples_split': 6, 'criterion': 'entropy', 'min_samples_leaf': 9}`**\n",
    "* **With 100 folds, Precision (0.4786) is much higher than 0.3 and Recall (0.3245) is also higher than 0.3. Therefore not only performance of decision tree is better than performance of naive bayes, it also meets expectation of Udacity**\n",
    "\n",
    "I'm very curious to see whether there is any improvement if I try scaling the data before using SelectKBest and Decision Tree:\n",
    "\n",
    "#### MinMaxScaler + DecisionTree"
   ]
  },
  {
   "cell_type": "code",
   "execution_count": 295,
   "metadata": {
    "collapsed": false
   },
   "outputs": [
    {
     "name": "stdout",
     "output_type": "stream",
     "text": [
      "Tester Classification report\n",
      "DecisionTreeClassifier(class_weight=None, criterion='entropy', max_depth=None,\n",
      "            max_features=None, max_leaf_nodes=None,\n",
      "            min_impurity_split=1e-07, min_samples_leaf=9,\n",
      "            min_samples_split=6, min_weight_fraction_leaf=0.0,\n",
      "            presort=False, random_state=None, splitter='best')\n",
      "\tAccuracy: 0.86127\tPrecision: 0.47037\tRecall: 0.32150\tF1: 0.38194\tF2: 0.34323\n",
      "\tTotal predictions: 15000\tTrue positives:  643\tFalse positives:  724\tFalse negatives: 1357\tTrue negatives: 12276\n",
      "\n",
      "A total of 9 features were used\n",
      "feature no. 1: total_stock_value (0.507159967337) (5.41890018941)\n",
      "feature no. 2: exercised_stock_options (0.121335071968) (4.20243630027)\n",
      "feature no. 3: long_term_incentive (0.0) (8.82544221992)\n",
      "feature no. 4: deferred_income (0.0) (22.5105490902)\n",
      "feature no. 5: bonus (0.0) (0.768146344788)\n",
      "feature no. 6: total_payments (0.0) (7.18405565829)\n",
      "feature no. 7: fraction_to_poi (0.0) (0.228859619021)\n",
      "feature no. 8: bonus_salary_ratio (0.0) (3.12809174816)\n",
      "feature no. 9: salary (0.0) (10.7835847082)\n"
     ]
    }
   ],
   "source": [
    "hide_me\n",
    "from sklearn.preprocessing import MinMaxScaler\n",
    "\n",
    "scale = MinMaxScaler()\n",
    "pipeline2 = Pipeline([(\"scale\", scale), (\"kbest\", skb), (\"dt\", dt )])\n",
    "params2 = {\"kbest__k\": range(5, 10),\n",
    "           \"dt__min_samples_split\": range(2,10),\n",
    "           \"dt__min_samples_leaf\": range(2,10),\n",
    "           \"dt__criterion\": [\"gini\", \"entropy\"]}\n",
    "\n",
    "gs = GridSearchCV(pipeline2, params2, n_jobs=-1, cv=sss, scoring=\"f1\")\n",
    "gs.fit(features, labels)\n",
    "clf= gs.best_estimator_\n",
    "print \"Tester Classification report\"\n",
    "test_classifier(clf.named_steps[\"dt\"], data_dict, features_list)\n",
    "\n",
    "features_used = gs.best_estimator_.named_steps[\"kbest\"].get_support(indices=True)\n",
    "print \"A total of %d features were used\" % len(features_used)\n",
    "#Note 1: You use 'features_list[i+1]', instead of 'features_list[i]', \n",
    "#because the first feature in that list is 'poi' \n",
    "#which you didn't include in the variable 'features'\n",
    "feature_names = [features_list[i + 1] for i in features_used]\n",
    "#print \"The features used are:\", feature_names\n",
    "scores = [clf.named_steps['kbest'].scores_[i + 1] for i in features_used]\n",
    "#print 'Scores: ', scores\n",
    "importances = [clf.named_steps['dt'].feature_importances_[i+1] for i in features_used]\n",
    "#print 'Importance: ', importances\n",
    "import numpy as np\n",
    "indices = np.argsort(importances)[::-1]\n",
    "#print 'Indices: ', indices\n",
    "for i in range(len(feature_names)):\n",
    "    print \"feature no. {}: {} ({}) ({})\".format(i+1, feature_names[indices[i]], importances[indices[i]], scores[indices[i]])\n"
   ]
  },
  {
   "cell_type": "markdown",
   "metadata": {},
   "source": [
    "**Precision and Recall are nearly unchanged. Therefore scaling does not contribute to any improvement of decision tree algorithm**\n",
    "\n",
    "If scaling does not show any effect on performance of decision tree algorithm, how about PCA dimension reduction?"
   ]
  },
  {
   "cell_type": "markdown",
   "metadata": {},
   "source": [
    "####  K-Best + PCA + Decision Tree:"
   ]
  },
  {
   "cell_type": "code",
   "execution_count": 296,
   "metadata": {
    "collapsed": false
   },
   "outputs": [
    {
     "name": "stdout",
     "output_type": "stream",
     "text": [
      "Tester Classification report\n",
      "DecisionTreeClassifier(class_weight=None, criterion='gini', max_depth=None,\n",
      "            max_features=None, max_leaf_nodes=None,\n",
      "            min_impurity_split=1e-07, min_samples_leaf=2,\n",
      "            min_samples_split=4, min_weight_fraction_leaf=0.0,\n",
      "            presort=False, random_state=None, splitter='best')\n",
      "\tAccuracy: 0.83867\tPrecision: 0.36434\tRecall: 0.28200\tF1: 0.31793\tF2: 0.29535\n",
      "\tTotal predictions: 15000\tTrue positives:  564\tFalse positives:  984\tFalse negatives: 1436\tTrue negatives: 12016\n",
      "\n",
      "A total of 8 features were used\n",
      "feature no. 1: total_stock_value (0.148423005566) (5.41890018941)\n",
      "feature no. 2: long_term_incentive (0.0398291925466) (8.82544221992)\n",
      "feature no. 3: deferred_income (0.0362637362637) (22.5105490902)\n",
      "feature no. 4: exercised_stock_options (0.0) (4.20243630027)\n",
      "feature no. 5: bonus (0.0) (0.768146344787)\n",
      "feature no. 6: fraction_to_poi (0.0) (0.228859619021)\n",
      "feature no. 7: bonus_salary_ratio (0.0) (3.12809174816)\n",
      "feature no. 8: salary (0.0) (10.7835847082)\n"
     ]
    }
   ],
   "source": [
    "pipeline4 = Pipeline([(\"kbest\", skb), (\"PCA\", pca ),(\"dt\", dt )])\n",
    "params4 = {\"kbest__k\": range(5, 10),\n",
    "           \"PCA__whiten\": [True, False],\n",
    "           \"dt__min_samples_split\": [2, 4, 6],\n",
    "           \"dt__min_samples_leaf\": [2, 4, 6],\n",
    "           \"dt__criterion\": [\"gini\", \"entropy\"]}\n",
    "gs = GridSearchCV(pipeline4, params4, n_jobs=-1, cv=sss, scoring=\"f1\")\n",
    "gs.fit(features, labels)\n",
    "clf= gs.best_estimator_\n",
    "print \"Tester Classification report\"\n",
    "test_classifier(clf.named_steps[\"dt\"], data_dict, features_list)\n",
    "\n",
    "features_used = gs.best_estimator_.named_steps[\"kbest\"].get_support(indices=True)\n",
    "print \"A total of %d features were used\" % len(features_used)\n",
    "#Note 1: You use 'features_list[i+1]', instead of 'features_list[i]', \n",
    "#because the first feature in that list is 'poi' \n",
    "#which you didn't include in the variable 'features'\n",
    "feature_names = [features_list[i + 1] for i in features_used]\n",
    "#print \"The features used are:\", feature_names\n",
    "scores = [clf.named_steps['kbest'].scores_[i + 1] for i in features_used]\n",
    "#print 'Scores: ', scores\n",
    "importances = [clf.named_steps['dt'].feature_importances_[i+1] for i in features_used]\n",
    "#print 'Importance: ', importances\n",
    "import numpy as np\n",
    "indices = np.argsort(importances)[::-1]\n",
    "#print 'Indices: ', indices\n",
    "for i in range(len(feature_names)):\n",
    "    print \"feature no. {}: {} ({}) ({})\".format(i+1, feature_names[indices[i]], importances[indices[i]], scores[indices[i]])\n"
   ]
  },
  {
   "cell_type": "markdown",
   "metadata": {
    "collapsed": true
   },
   "source": [
    "**After performing dimension reduction, both Precision and Recall rate are decreased significantly. It means that PCA does not improve performance of decision tree algorithm but also makes it worse.**\n",
    "\n",
    "Next up are Random Forest."
   ]
  },
  {
   "cell_type": "markdown",
   "metadata": {},
   "source": [
    "### d) K-Best + Random Forest:"
   ]
  },
  {
   "cell_type": "code",
   "execution_count": 297,
   "metadata": {
    "collapsed": false
   },
   "outputs": [
    {
     "name": "stdout",
     "output_type": "stream",
     "text": [
      "Tester Classification report\n",
      "RandomForestClassifier(bootstrap=True, class_weight=None, criterion='gini',\n",
      "            max_depth=10, max_features='auto', max_leaf_nodes=None,\n",
      "            min_impurity_split=1e-07, min_samples_leaf=1,\n",
      "            min_samples_split=2, min_weight_fraction_leaf=0.0,\n",
      "            n_estimators=15, n_jobs=1, oob_score=False, random_state=None,\n",
      "            verbose=0, warm_start=False)\n",
      "\tAccuracy: 0.85800\tPrecision: 0.41772\tRecall: 0.16500\tF1: 0.23656\tF2: 0.18771\n",
      "\tTotal predictions: 15000\tTrue positives:  330\tFalse positives:  460\tFalse negatives: 1670\tTrue negatives: 12540\n",
      "\n",
      "A total of 9 features were used\n",
      "feature no. 1: exercised_stock_options (0.0872082695712) (4.20243630027)\n",
      "feature no. 2: total_stock_value (0.0862874353978) (5.41890018941)\n",
      "feature no. 3: deferred_income (0.0769450242178) (22.5105490902)\n",
      "feature no. 4: long_term_incentive (0.0607991095873) (8.82544221992)\n",
      "feature no. 5: bonus_salary_ratio (0.0395795234386) (3.12809174816)\n",
      "feature no. 6: salary (0.0343122453201) (10.7835847082)\n",
      "feature no. 7: bonus (0.00285395763657) (0.768146344787)\n",
      "feature no. 8: total_payments (0.0) (7.18405565829)\n",
      "feature no. 9: fraction_to_poi (0.0) (0.228859619021)\n"
     ]
    }
   ],
   "source": [
    "pipeline3 = Pipeline([(\"kbest\", skb), (\"rf\", rf )])\n",
    "params3 = {\"kbest__k\": range(5, 10),\n",
    "           \"rf__max_depth\": [None, 5, 10],\n",
    "           \"rf__n_estimators\": [10, 15, 20]}\n",
    "gs = GridSearchCV(pipeline3, params3, n_jobs=-1, cv=sss, scoring=\"f1\")\n",
    "gs.fit(features, labels)\n",
    "clf= gs.best_estimator_\n",
    "print \"Tester Classification report\"\n",
    "test_classifier(clf.named_steps[\"rf\"], data_dict, features_list)\n",
    "\n",
    "features_used = gs.best_estimator_.named_steps[\"kbest\"].get_support(indices=True)\n",
    "print \"A total of %d features were used\" % len(features_used)\n",
    "#Note 1: You use 'features_list[i+1]', instead of 'features_list[i]', \n",
    "#because the first feature in that list is 'poi' \n",
    "#which you didn't include in the variable 'features'\n",
    "feature_names = [features_list[i + 1] for i in features_used]\n",
    "#print \"The features used are:\", feature_names\n",
    "scores = [clf.named_steps['kbest'].scores_[i + 1] for i in features_used]\n",
    "#print 'Scores: ', scores\n",
    "importances = [clf.named_steps['rf'].feature_importances_[i+1] for i in features_used]\n",
    "#print 'Importance: ', importances\n",
    "indices = np.argsort(importances)[::-1]\n",
    "#print 'Indices: ', indices\n",
    "for i in range(len(feature_names)):\n",
    "    print \"feature no. {}: {} ({}) ({})\".format(i+1, feature_names[indices[i]], importances[indices[i]], scores[indices[i]])\n"
   ]
  },
  {
   "cell_type": "markdown",
   "metadata": {
    "collapsed": false
   },
   "source": [
    "In previous classification report, we also see the accuracy score. We should try to explain what it means.\n",
    "\n",
    "Accuracy 85.8% means \"out of all my predictions, I can be sure 85.8% are correct\", but then since the number of POIs are much less than non-POIs, we can just predict all as non-POIs and we will get very good accuracy.\n",
    "\n",
    "Therefore it is not the most important metris here, and can even be misleading.\n",
    "\n",
    "**The most important metrics are precision and recall. Precision is 0.41772 > 0.3 . However, Recall is 0.165 < 0.3. It means that in most of the cases that random forest predict is POI is really POI, but it also misses a lot of POI during prediction. That's why we have low F1 score too.**\n",
    "\n",
    "Therefore the best algorithm is :\n",
    "\n",
    "```python\n",
    "pipeline2 = Pipeline([(\"kbest\", skb), (\"dt\", dt )])\n",
    "params2 = {\"kbest__k\": [9],\n",
    "           \"dt__min_samples_split\": [6],\n",
    "           \"dt__min_samples_leaf\": [9],\n",
    "           \"dt__criterion\": [\"entropy\"]}\n",
    "\n",
    "gs = GridSearchCV(pipeline2, params2, n_jobs=-1, cv=sss, scoring=\"f1\")\n",
    "gs.fit(features, labels)\n",
    "```"
   ]
  },
  {
   "cell_type": "code",
   "execution_count": 56,
   "metadata": {
    "collapsed": false
   },
   "outputs": [
    {
     "name": "stdout",
     "output_type": "stream",
     "text": [
      "Tester Classification report\n",
      "DecisionTreeClassifier(class_weight=None, criterion='entropy', max_depth=None,\n",
      "            max_features=None, max_leaf_nodes=None,\n",
      "            min_impurity_split=1e-07, min_samples_leaf=9,\n",
      "            min_samples_split=6, min_weight_fraction_leaf=0.0,\n",
      "            presort=False, random_state=None, splitter='best')\n",
      "\tAccuracy: 0.86167\tPrecision: 0.47249\tRecall: 0.32200\tF1: 0.38299\tF2: 0.34391\n",
      "\tTotal predictions: 15000\tTrue positives:  644\tFalse positives:  719\tFalse negatives: 1356\tTrue negatives: 12281\n",
      "\n"
     ]
    }
   ],
   "source": [
    "hide_me\n",
    "### Task 6: Dump your classifier, dataset, and features_list so anyone can\n",
    "### check your results. You do not need to change anything below, but make sure\n",
    "### that the version of poi_id.py that you submit can be run on its own and\n",
    "### generates the necessary .pkl files for validating your results.\n",
    "pipeline2 = Pipeline([(\"kbest\", skb), (\"dt\", dt )])\n",
    "params2 = {\"kbest__k\": [9],\n",
    "           \"dt__min_samples_split\": [6],\n",
    "           \"dt__min_samples_leaf\": [9],\n",
    "           \"dt__criterion\": [\"entropy\"]}\n",
    "\n",
    "gs = GridSearchCV(pipeline2, params2, n_jobs=-1, cv=sss, scoring=\"f1\")\n",
    "gs.fit(features, labels)\n",
    "clf= gs.best_estimator_\n",
    "print \"Tester Classification report\"\n",
    "test_classifier(clf.named_steps[\"dt\"], data_dict, features_list)\n",
    "dump_classifier_and_data(clf.named_steps[\"dt\"], data_dict, features_list)"
   ]
  },
  {
   "cell_type": "markdown",
   "metadata": {
    "collapsed": true
   },
   "source": [
    "## VII. Conclusion:\n",
    "\n",
    "In the end, I managed to get the prediction model to have 86.2% accuracy in predicting an unknown employee to be POI (Person Of Interest) based on their insider pay and email statistics.\n",
    "Having high accuracy is not sufficient enough, we need to have a good precision rate and recall rate. The threshold that Udacity used for these two rates are 0.3.\n",
    "In terms of precision and recall, decision tree algorithm performs the best in indentifying POI.\n",
    "**Summary of decision tree algoritm:**\n",
    "* **GridSearchCV determined that the best parameters for this algorithm is **\n",
    "```\n",
    "{\"kbest__k\": [9],\n",
    " \"dt__min_samples_split\": [6],\n",
    " \"dt__min_samples_leaf\": [9],\n",
    " \"dt__criterion\": [\"entropy\"]}\n",
    "```\n",
    "* **Precision is 0.47255**\n",
    "* **Recall is 0.3185**\n",
    "* **Due to having set up a pipeline with SelectKBest, I can identify the number features were used are 9 features: total_stock_value, exercised_stock_options, long_term_incentive, deferred_income, bonus, total_payments, fraction_to_poi, bonus_salary_ratio, salary.**\n",
    "* **Total Stock Value and Exercised Stock Options are two most important features with decision tree classification**\n",
    "\n",
    "The fure work for this is that I should explore some other algorithms such as AdaBoost and Logistic Regression. In addition, I should learn more of approriate parameters to improve performance of used algorithms.\n"
   ]
  },
  {
   "cell_type": "code",
   "execution_count": null,
   "metadata": {
    "collapsed": true
   },
   "outputs": [],
   "source": []
  }
 ],
 "metadata": {
  "celltoolbar": "Raw Cell Format",
  "kernelspec": {
   "display_name": "Python 2",
   "language": "python",
   "name": "python2"
  },
  "language_info": {
   "codemirror_mode": {
    "name": "ipython",
    "version": 2
   },
   "file_extension": ".py",
   "mimetype": "text/x-python",
   "name": "python",
   "nbconvert_exporter": "python",
   "pygments_lexer": "ipython2",
   "version": "2.7.11"
  }
 },
 "nbformat": 4,
 "nbformat_minor": 0
}
